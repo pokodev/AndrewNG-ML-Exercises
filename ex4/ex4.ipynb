{
 "cells": [
  {
   "cell_type": "markdown",
   "metadata": {},
   "source": [
    "# 未完成"
   ]
  },
  {
   "cell_type": "code",
   "execution_count": 1,
   "metadata": {},
   "outputs": [],
   "source": [
    "import pandas as pd \n",
    "import numpy as np\n",
    "import matplotlib.pyplot as plt \n",
    "from scipy.io import loadmat\n",
    "%matplotlib inline "
   ]
  },
  {
   "cell_type": "code",
   "execution_count": 2,
   "metadata": {},
   "outputs": [
    {
     "data": {
      "text/plain": [
       "(5000, 400)"
      ]
     },
     "execution_count": 2,
     "metadata": {},
     "output_type": "execute_result"
    }
   ],
   "source": [
    "#load the data \n",
    "X=loadmat('ex4data1.mat')['X']\n",
    "X.shape"
   ]
  },
  {
   "cell_type": "code",
   "execution_count": 3,
   "metadata": {},
   "outputs": [],
   "source": [
    "y=loadmat('ex4data1.mat')['y']\n",
    "#y=y.ravel()  #将y转变为一维向量"
   ]
  },
  {
   "cell_type": "code",
   "execution_count": 4,
   "metadata": {},
   "outputs": [],
   "source": [
    "# load 训练好的参数\n",
    "theta1=loadmat('ex4weights.mat')['Theta1']\n",
    "theta2=loadmat('ex4weights.mat')['Theta2']"
   ]
  },
  {
   "cell_type": "code",
   "execution_count": 5,
   "metadata": {},
   "outputs": [],
   "source": [
    "#构建sigmoid\n",
    "def sigmoid(z):\n",
    "    return 1/(1+np.exp(-z))"
   ]
  },
  {
   "cell_type": "code",
   "execution_count": 6,
   "metadata": {},
   "outputs": [],
   "source": [
    "#对y进行‘one-hot' 处理\n",
    "def expand(y):\n",
    "    res = []\n",
    "    for i in y:\n",
    "        y_array = np.zeros(10)\n",
    "        y_array[i - 1] = 1\n",
    "        res.append(y_array)\n",
    "    return np.array(res)"
   ]
  },
  {
   "cell_type": "code",
   "execution_count": 38,
   "metadata": {
    "scrolled": true
   },
   "outputs": [
    {
     "data": {
      "text/plain": [
       "array([[0., 0., 0., ..., 0., 0., 1.],\n",
       "       [0., 0., 0., ..., 0., 0., 1.],\n",
       "       [0., 0., 0., ..., 0., 0., 1.],\n",
       "       ...,\n",
       "       [0., 0., 0., ..., 0., 1., 0.],\n",
       "       [0., 0., 0., ..., 0., 1., 0.],\n",
       "       [0., 0., 0., ..., 0., 1., 0.]])"
      ]
     },
     "execution_count": 38,
     "metadata": {},
     "output_type": "execute_result"
    }
   ],
   "source": [
    "y = expand(y)\n",
    "y"
   ]
  },
  {
   "cell_type": "code",
   "execution_count": 41,
   "metadata": {},
   "outputs": [],
   "source": [
    "def feed_forward(theta, X):\n",
    "    \"\"\"apply to architecture 400+1 * 25+1 *10\n",
    "    X: 5000 * 401\n",
    "    \"\"\"\n",
    "\n",
    "    t1, t2 = deserialize(theta)  # t1: (25,401) t2: (10,26)\n",
    "    m = X.shape[0]\n",
    "    a1 = X  # 5000 * 401\n",
    "\n",
    "    z2 = a1 @ t1.T  # 5000 * 25\n",
    "    a2 = np.insert(sigmoid(z2), 0, np.ones(m), axis=1)  # 5000*26\n",
    "\n",
    "    z3 = a2 @ t2.T  # 5000 * 10\n",
    "    h = sigmoid(z3)  # 5000*10, this is h_theta(X)\n",
    "\n",
    "    return a1, z2, a2, z3, h  # you need all those for backprop\n"
   ]
  },
  {
   "cell_type": "code",
   "execution_count": 39,
   "metadata": {},
   "outputs": [],
   "source": [
    "def deserialize(seq):\n",
    "#     \"\"\"into ndarray of (25, 401), (10, 26)\"\"\"\n",
    "    return seq[:25 * 401].reshape(25, 401), seq[25 * 401:].reshape(10, 26)"
   ]
  },
  {
   "cell_type": "code",
   "execution_count": 40,
   "metadata": {},
   "outputs": [],
   "source": [
    "def serialize(a, b):\n",
    "  \n",
    "    return np.concatenate((np.ravel(a), np.ravel(b)))\n",
    "# 序列化2矩阵\n",
    "# 在这个nn架构中，我们有theta1（25,401），theta2（10,26），它们的梯度是delta1，delta2  "
   ]
  },
  {
   "cell_type": "code",
   "execution_count": 44,
   "metadata": {},
   "outputs": [],
   "source": [
    "theta = serialize(theta1, theta2) # 扁平化参数，25*401+10*26=10285"
   ]
  },
  {
   "cell_type": "code",
   "execution_count": 45,
   "metadata": {},
   "outputs": [
    {
     "ename": "ValueError",
     "evalue": "matmul: Input operand 1 has a mismatch in its core dimension 0, with gufunc signature (n?,k),(k,m?)->(n?,m?) (size 401 is different from 400)",
     "output_type": "error",
     "traceback": [
      "\u001b[1;31m---------------------------------------------------------------------------\u001b[0m",
      "\u001b[1;31mValueError\u001b[0m                                Traceback (most recent call last)",
      "\u001b[1;32m<ipython-input-45-43a705edada3>\u001b[0m in \u001b[0;36m<module>\u001b[1;34m\u001b[0m\n\u001b[1;32m----> 1\u001b[1;33m \u001b[0mfeed_forward\u001b[0m\u001b[1;33m(\u001b[0m\u001b[0mtheta\u001b[0m\u001b[1;33m,\u001b[0m\u001b[0mX\u001b[0m\u001b[1;33m)\u001b[0m\u001b[1;33m\u001b[0m\u001b[1;33m\u001b[0m\u001b[0m\n\u001b[0m",
      "\u001b[1;32m<ipython-input-41-60b7c2eacc88>\u001b[0m in \u001b[0;36mfeed_forward\u001b[1;34m(theta, X)\u001b[0m\n\u001b[0;32m      8\u001b[0m     \u001b[0ma1\u001b[0m \u001b[1;33m=\u001b[0m \u001b[0mX\u001b[0m  \u001b[1;31m# 5000 * 401\u001b[0m\u001b[1;33m\u001b[0m\u001b[1;33m\u001b[0m\u001b[0m\n\u001b[0;32m      9\u001b[0m \u001b[1;33m\u001b[0m\u001b[0m\n\u001b[1;32m---> 10\u001b[1;33m     \u001b[0mz2\u001b[0m \u001b[1;33m=\u001b[0m \u001b[0ma1\u001b[0m \u001b[1;33m@\u001b[0m \u001b[0mt1\u001b[0m\u001b[1;33m.\u001b[0m\u001b[0mT\u001b[0m  \u001b[1;31m# 5000 * 25\u001b[0m\u001b[1;33m\u001b[0m\u001b[1;33m\u001b[0m\u001b[0m\n\u001b[0m\u001b[0;32m     11\u001b[0m     \u001b[0ma2\u001b[0m \u001b[1;33m=\u001b[0m \u001b[0mnp\u001b[0m\u001b[1;33m.\u001b[0m\u001b[0minsert\u001b[0m\u001b[1;33m(\u001b[0m\u001b[0msigmoid\u001b[0m\u001b[1;33m(\u001b[0m\u001b[0mz2\u001b[0m\u001b[1;33m)\u001b[0m\u001b[1;33m,\u001b[0m \u001b[1;36m0\u001b[0m\u001b[1;33m,\u001b[0m \u001b[0mnp\u001b[0m\u001b[1;33m.\u001b[0m\u001b[0mones\u001b[0m\u001b[1;33m(\u001b[0m\u001b[0mm\u001b[0m\u001b[1;33m)\u001b[0m\u001b[1;33m,\u001b[0m \u001b[0maxis\u001b[0m\u001b[1;33m=\u001b[0m\u001b[1;36m1\u001b[0m\u001b[1;33m)\u001b[0m  \u001b[1;31m# 5000*26\u001b[0m\u001b[1;33m\u001b[0m\u001b[1;33m\u001b[0m\u001b[0m\n\u001b[0;32m     12\u001b[0m \u001b[1;33m\u001b[0m\u001b[0m\n",
      "\u001b[1;31mValueError\u001b[0m: matmul: Input operand 1 has a mismatch in its core dimension 0, with gufunc signature (n?,k),(k,m?)->(n?,m?) (size 401 is different from 400)"
     ]
    }
   ],
   "source": [
    "feed_forward(theta,X)"
   ]
  },
  {
   "cell_type": "code",
   "execution_count": 10,
   "metadata": {},
   "outputs": [],
   "source": [
    "# 定义损失函数\n",
    "def cost(theta1,theta2, X, y):\n",
    "#     \"\"\"calculate cost\n",
    "#     y: (m, k) ndarray\n",
    "#     \"\"\"\n",
    "    m = X.shape[0]  # get the data size m\n",
    "\n",
    "    _, _, _, _, h = forward_propagate(X,theta1,theta2)\n",
    "\n",
    "    # np.multiply is pairwise operation\n",
    "    pair_computation = -np.multiply(y, np.log(h)) - np.multiply((1 - y), np.log(1 - h))\n",
    "\n",
    "    return pair_computation.sum() / m\n"
   ]
  },
  {
   "cell_type": "code",
   "execution_count": 11,
   "metadata": {},
   "outputs": [
    {
     "data": {
      "text/plain": [
       "1109.389991128097"
      ]
     },
     "execution_count": 11,
     "metadata": {},
     "output_type": "execute_result"
    }
   ],
   "source": [
    "cost(theta1,theta2,X,y)"
   ]
  },
  {
   "cell_type": "code",
   "execution_count": 12,
   "metadata": {},
   "outputs": [],
   "source": [
    "# 正则化损失函数\n",
    "def r_cost(theta1,theta2,X,y,l=1):\n",
    "    m = X.shape[0]\n",
    "    tmp = np.square(theta1[:,1:]).sum() + np.square(theta2[:,1:]).sum()\n",
    "    return cost(theta1,theta2,X,y) + tmp * (l/(2*m))\n",
    "    "
   ]
  },
  {
   "cell_type": "code",
   "execution_count": 13,
   "metadata": {},
   "outputs": [
    {
     "data": {
      "text/plain": [
       "1109.4861318220267"
      ]
     },
     "execution_count": 13,
     "metadata": {},
     "output_type": "execute_result"
    }
   ],
   "source": [
    "r_cost(theta1,theta2,X,y)"
   ]
  },
  {
   "cell_type": "markdown",
   "metadata": {},
   "source": [
    "## 实现向后传播（Backpropagation)"
   ]
  },
  {
   "cell_type": "code",
   "execution_count": 29,
   "metadata": {},
   "outputs": [],
   "source": [
    "# Sigmoid gradient\n",
    "def sigmoidGradient(z):\n",
    "    return np.multiply(sigmoid(z) ,(1-sigmoid(z)))"
   ]
  },
  {
   "cell_type": "code",
   "execution_count": 15,
   "metadata": {},
   "outputs": [
    {
     "data": {
      "text/plain": [
       "array([[0.25, 0.25, 0.25, ..., 0.25, 0.25, 0.25],\n",
       "       [0.25, 0.25, 0.25, ..., 0.25, 0.25, 0.25],\n",
       "       [0.25, 0.25, 0.25, ..., 0.25, 0.25, 0.25],\n",
       "       ...,\n",
       "       [0.25, 0.25, 0.25, ..., 0.25, 0.25, 0.25],\n",
       "       [0.25, 0.25, 0.25, ..., 0.25, 0.25, 0.25],\n",
       "       [0.25, 0.25, 0.25, ..., 0.25, 0.25, 0.25]])"
      ]
     },
     "execution_count": 15,
     "metadata": {},
     "output_type": "execute_result"
    }
   ],
   "source": [
    "sigmoidGradient(X)"
   ]
  },
  {
   "cell_type": "code",
   "execution_count": 16,
   "metadata": {},
   "outputs": [],
   "source": [
    "# Random initialization\n",
    "def random_init(size):\n",
    "    return np.random.uniform(-0.12, 0.12, size)"
   ]
  },
  {
   "cell_type": "code",
   "execution_count": 17,
   "metadata": {},
   "outputs": [
    {
     "data": {
      "text/plain": [
       "array([ 0.00119368,  0.10871885, -0.02534946,  0.02731261,  0.05427623])"
      ]
     },
     "execution_count": 17,
     "metadata": {},
     "output_type": "execute_result"
    }
   ],
   "source": [
    "random_init(5)"
   ]
  },
  {
   "cell_type": "code",
   "execution_count": 18,
   "metadata": {},
   "outputs": [],
   "source": [
    "#forward_propagate(theta1,theta2,X)"
   ]
  },
  {
   "cell_type": "code",
   "execution_count": 32,
   "metadata": {},
   "outputs": [],
   "source": [
    "def gradient(theta1,theta2, X, y):\n",
    "  \n",
    "    m = X.shape[0]\n",
    "\n",
    "    delta1 = np.zeros(theta1.shape)  # (25, 401)\n",
    "    delta2 = np.zeros(theta2.shape)  # (10, 26)\n",
    "\n",
    "    a1, z2, a2, z3, h = forward_propagate(X,theta1,theta2)\n",
    "\n",
    "    for i in range(m):\n",
    "        a1i = a1[i, :]  # (1, 401)\n",
    "        z2i = z2[i, :]  # (1, 25)\n",
    "        a2i = a2[i, :]  # (1, 26)\n",
    "\n",
    "        hi = h[i, :]    # (1, 10)\n",
    "        yi = y[i, :]    # (1, 10)\n",
    "\n",
    "        d3i = hi - yi  # (1, 10)\n",
    "\n",
    "        z2i = np.insert(z2i, 0, np.ones(1))  # make it (1, 26) to compute d2i\n",
    "        d2i = np.multiply(theta2.T.dot(d3i), sigmoidGradient(z2i))  # (1, 26)\n",
    "\n",
    "        # careful with np vector transpose\n",
    "        delta2 += np.matrix(d3i).T @ np.matrix(a2i)  # (1, 10).T @ (1, 26) -> (10, 26)\n",
    "        delta1 += np.matrix(d2i[1:]).T @ np.matrix(a1i)  # (1, 25).T @ (1, 401) -> (25, 401)\n",
    "\n",
    "    delta1 = delta1 / m\n",
    "    delta2 = delta2 / m\n",
    "\n",
    "    return (delta1, delta2)"
   ]
  },
  {
   "cell_type": "code",
   "execution_count": 36,
   "metadata": {},
   "outputs": [
    {
     "data": {
      "text/plain": [
       "(10, 26)"
      ]
     },
     "execution_count": 36,
     "metadata": {},
     "output_type": "execute_result"
    }
   ],
   "source": [
    "d1,d2=gradient(theta1,theta2,X,y)\n",
    "d1.shape\n",
    "d2.shape"
   ]
  }
 ],
 "metadata": {
  "kernelspec": {
   "display_name": "Python 3",
   "language": "python",
   "name": "python3"
  },
  "language_info": {
   "codemirror_mode": {
    "name": "ipython",
    "version": 3
   },
   "file_extension": ".py",
   "mimetype": "text/x-python",
   "name": "python",
   "nbconvert_exporter": "python",
   "pygments_lexer": "ipython3",
   "version": "3.7.3"
  }
 },
 "nbformat": 4,
 "nbformat_minor": 4
}
