{
 "cells": [
  {
   "cell_type": "markdown",
   "metadata": {},
   "source": [
    "## 正则化线性回归"
   ]
  },
  {
   "cell_type": "code",
   "execution_count": 30,
   "metadata": {},
   "outputs": [],
   "source": [
    "import pandas as pd\n",
    "import numpy as np\n",
    "import matplotlib.pyplot as plt \n",
    "%matplotlib inline \n",
    "from scipy.io import loadmat\n",
    "import scipy.optimize as opt"
   ]
  },
  {
   "cell_type": "code",
   "execution_count": 2,
   "metadata": {},
   "outputs": [],
   "source": [
    "# load data\n",
    "X=loadmat('ex5data1.mat')['X'] \n",
    "y=loadmat('ex5data1.mat')['y'].ravel() #展开成一维，下同\n",
    "Xval = loadmat('ex5data1.mat')['Xval']\n",
    "yval = loadmat('ex5data1.mat')['yval'].ravel()\n",
    "Xtest = loadmat('ex5data1.mat')['Xtest']\n",
    "ytest = loadmat('ex5data1.mat')['ytest'].ravel()"
   ]
  },
  {
   "cell_type": "code",
   "execution_count": 3,
   "metadata": {},
   "outputs": [
    {
     "data": {
      "text/plain": [
       "[Text(0.5, 0, 'X'), Text(0, 0.5, 'y')]"
      ]
     },
     "execution_count": 3,
     "metadata": {},
     "output_type": "execute_result"
    },
    {
     "data": {
      "image/png": "[encoded data removed]",
      "text/plain": [
       "<Figure size 432x288 with 1 Axes>"
      ]
     },
     "metadata": {
      "needs_background": "light"
     },
     "output_type": "display_data"
    }
   ],
   "source": [
    "#可视化\n",
    "fig,ax = plt.subplots()\n",
    "ax.scatter(X,y)\n",
    "ax.set(xlabel='X',ylabel='y')"
   ]
  },
  {
   "cell_type": "code",
   "execution_count": 4,
   "metadata": {},
   "outputs": [],
   "source": [
    "def insertOnes(x):\n",
    "    return np.insert(x,0,np.ones(x.shape[0]),axis=1) # 给X插入1"
   ]
  },
  {
   "cell_type": "code",
   "execution_count": 5,
   "metadata": {},
   "outputs": [
    {
     "data": {
      "text/plain": [
       "array([[  1.        , -15.93675813],\n",
       "       [  1.        , -29.15297922],\n",
       "       [  1.        ,  36.18954863],\n",
       "       [  1.        ,  37.49218733],\n",
       "       [  1.        , -48.05882945],\n",
       "       [  1.        ,  -8.94145794],\n",
       "       [  1.        ,  15.30779289],\n",
       "       [  1.        , -34.70626581],\n",
       "       [  1.        ,   1.38915437],\n",
       "       [  1.        , -44.38375985],\n",
       "       [  1.        ,   7.01350208],\n",
       "       [  1.        ,  22.76274892]])"
      ]
     },
     "execution_count": 5,
     "metadata": {},
     "output_type": "execute_result"
    }
   ],
   "source": [
    "X=insertOnes(X)\n",
    "X"
   ]
  },
  {
   "cell_type": "code",
   "execution_count": 6,
   "metadata": {},
   "outputs": [
    {
     "data": {
      "text/plain": [
       "array([0., 0.])"
      ]
     },
     "execution_count": 6,
     "metadata": {},
     "output_type": "execute_result"
    }
   ],
   "source": [
    "theta = np.zeros(X.shape[1])\n",
    "theta"
   ]
  },
  {
   "cell_type": "code",
   "execution_count": 7,
   "metadata": {},
   "outputs": [],
   "source": [
    "#正则化损失函数\n",
    "def cost(theta,X,y):\n",
    "    m = X.shape[0] # 样本数目\n",
    "    error = np.sum(np.square(X.dot(theta.T) - y))\n",
    "    return error / (2*m)"
   ]
  },
  {
   "cell_type": "code",
   "execution_count": 8,
   "metadata": {},
   "outputs": [],
   "source": [
    "def r_cost(theta,X,y,l=1):\n",
    "    m = X.shape[0]\n",
    "    r = (np.sum(np.square(theta[1:]))) * (l/(2*m))\n",
    "    return cost(theta,X,y) + r"
   ]
  },
  {
   "cell_type": "code",
   "execution_count": 25,
   "metadata": {},
   "outputs": [
    {
     "data": {
      "text/plain": [
       "303.9931922202643"
      ]
     },
     "execution_count": 25,
     "metadata": {},
     "output_type": "execute_result"
    }
   ],
   "source": [
    "theta = np.ones(X.shape[1]) # 将theta 的初始值变为1\n",
    "r_cost(theta,X,y)"
   ]
  },
  {
   "cell_type": "code",
   "execution_count": 18,
   "metadata": {},
   "outputs": [
    {
     "data": {
      "text/plain": [
       "array([1., 1.])"
      ]
     },
     "execution_count": 18,
     "metadata": {},
     "output_type": "execute_result"
    }
   ],
   "source": [
    "theta"
   ]
  },
  {
   "cell_type": "markdown",
   "metadata": {},
   "source": [
    "## 梯度下降 regularized linear regression gradient "
   ]
  },
  {
   "cell_type": "code",
   "execution_count": 24,
   "metadata": {},
   "outputs": [],
   "source": [
    "def gradient(theta,X,y,l=1):\n",
    "    m = X.shape[0] # 样本个数\n",
    "    temptheta = theta.copy()\n",
    "    temptheta[0] = 0 # 将bias的系数变为0，这样后面算梯度就影响不到bias项了\n",
    "    r = temptheta * (l/m) # 正则化项\n",
    "    error = X.dot(theta.T) -y \n",
    "    gradTheta = X.T.dot(error) / m  + r \n",
    "    return gradTheta  "
   ]
  },
  {
   "cell_type": "code",
   "execution_count": 26,
   "metadata": {},
   "outputs": [
    {
     "data": {
      "text/plain": [
       "array([-15.30301567, 598.25074417])"
      ]
     },
     "execution_count": 26,
     "metadata": {},
     "output_type": "execute_result"
    }
   ],
   "source": [
    "gradient(theta,X,y)"
   ]
  },
  {
   "cell_type": "markdown",
   "metadata": {},
   "source": [
    "## 拟合线性回归\n"
   ]
  },
  {
   "cell_type": "code",
   "execution_count": 28,
   "metadata": {},
   "outputs": [],
   "source": [
    "def linear_regression_np(X, y, l=1):\n",
    "    \"\"\"linear regression\n",
    "    args:\n",
    "        X: feature matrix, (m, n+1) # with incercept x0=1\n",
    "        y: target vector, (m, )\n",
    "        l: lambda constant for regularization\n",
    "\n",
    "    return: trained parameters\n",
    "    \"\"\"\n",
    "    # init theta\n",
    "    theta = np.ones(X.shape[1])\n",
    "\n",
    "    # train it\n",
    "    res = opt.minimize(fun=r_cost,\n",
    "                       x0=theta,\n",
    "                       args=(X, y, l),\n",
    "                       method='TNC',\n",
    "                       jac=gradient,\n",
    "                       options={'disp': True})\n",
    "    return res\n"
   ]
  },
  {
   "cell_type": "code",
   "execution_count": 33,
   "metadata": {},
   "outputs": [
    {
     "data": {
      "text/plain": [
       "     fun: 22.379541822940265\n",
       "     jac: array([1.25341733e-08, 8.56473651e-08])\n",
       " message: 'Local minimum reached (|pg| ~= 0)'\n",
       "    nfev: 7\n",
       "     nit: 3\n",
       "  status: 0\n",
       " success: True\n",
       "       x: array([13.08771417,  0.367742  ])"
      ]
     },
     "execution_count": 33,
     "metadata": {},
     "output_type": "execute_result"
    }
   ],
   "source": [
    "linear_regression_np(X,y)"
   ]
  },
  {
   "cell_type": "code",
   "execution_count": 35,
   "metadata": {},
   "outputs": [
    {
     "data": {
      "text/plain": [
       "array([13.08790348,  0.36777923])"
      ]
     },
     "execution_count": 35,
     "metadata": {},
     "output_type": "execute_result"
    }
   ],
   "source": [
    "theta = linear_regression_np(X,y,l=0).x\n",
    "theta"
   ]
  },
  {
   "cell_type": "code",
   "execution_count": 43,
   "metadata": {},
   "outputs": [
    {
     "data": {
      "text/plain": [
       "[Text(0.5, 0, 'X'), Text(0, 0.5, 'y')]"
      ]
     },
     "execution_count": 43,
     "metadata": {},
     "output_type": "execute_result"
    },
    {
     "data": {
      "image/png": "[encoded data removed]",
      "text/plain": [
       "<Figure size 432x288 with 1 Axes>"
      ]
     },
     "metadata": {
      "needs_background": "light"
     },
     "output_type": "display_data"
    }
   ],
   "source": [
    "#可视化\n",
    "fig,ax = plt.subplots()\n",
    "ax.scatter(X[:,1:],y,label='Training data') #X 加上了1，改变了维度\n",
    "ax.plot(X[:,1:],X.dot(theta.T),color='r',label=\"Prediction\") # X.dot(theta.T) 很优雅\n",
    "ax.legend()\n",
    "ax.set(xlabel='X',ylabel='y')"
   ]
  },
  {
   "cell_type": "markdown",
   "metadata": {},
   "source": [
    "## bias-variance"
   ]
  },
  {
   "cell_type": "markdown",
   "metadata": {},
   "source": [
    "# learning curve #学习曲线"
   ]
  },
  {
   "cell_type": "code",
   "execution_count": 195,
   "metadata": {},
   "outputs": [],
   "source": [
    "def get_Jcost(Xtrain,ytrain,Xval,yval):\n",
    "    #theta = np.ones(Xtrain.shape[1]) #init theta\n",
    "    Jtrain = [] # 训练集的error\n",
    "    Jval = [] #验证集的error\n",
    "    for i in range(1,Xtrain.shape[0] + 1):\n",
    "        theta = linear_regression_np(Xtrain[:i],ytrain[:i],l=0).x #每增加一个数据集就重新拟合theta\n",
    "        Jtrain.append(cost(theta,Xval[:i],yval[:i])) # 计算error\n",
    "        Jval.append(cost(theta,Xval,yval)) #用训练集拟合的theta去计算测试集的error\n",
    "    return Jtrain,Jval"
   ]
  },
  {
   "cell_type": "code",
   "execution_count": 84,
   "metadata": {},
   "outputs": [],
   "source": [
    "Jtrain,Jval = get_Jcost(X,y,Xval,yval)"
   ]
  },
  {
   "cell_type": "code",
   "execution_count": 87,
   "metadata": {
    "scrolled": false
   },
   "outputs": [
    {
     "data": {
      "text/plain": [
       "<matplotlib.legend.Legend at 0x1e2c9aaef28>"
      ]
     },
     "execution_count": 87,
     "metadata": {},
     "output_type": "execute_result"
    },
    {
     "data": {
      "image/png": "[encoded data removed]",
      "text/plain": [
       "<Figure size 432x288 with 1 Axes>"
      ]
     },
     "metadata": {
      "needs_background": "light"
     },
     "output_type": "display_data"
    }
   ],
   "source": [
    "fig,ax=plt.subplots()\n",
    "ax.plot(range(len(Jtrain)),Jtrain,label='Train')\n",
    "ax.plot(range(len(Jval)),Jval,label='Cross Validation')\n",
    "ax.legend()"
   ]
  },
  {
   "cell_type": "markdown",
   "metadata": {},
   "source": [
    "# Polynomial regression"
   ]
  },
  {
   "cell_type": "code",
   "execution_count": 152,
   "metadata": {},
   "outputs": [],
   "source": [
    "def poly_features(x,n):\n",
    "    tmp =[np.ones(x.shape[0])]\n",
    "    for i in range(1,n+1):\n",
    "        tmp.append(np.power(X[:,1],i))\n",
    "    return pd.DataFrame(tmp).values.T"
   ]
  },
  {
   "cell_type": "code",
   "execution_count": 153,
   "metadata": {},
   "outputs": [
    {
     "data": {
      "text/html": [
       "<div>\n",
       "<style scoped>\n",
       "    .dataframe tbody tr th:only-of-type {\n",
       "        vertical-align: middle;\n",
       "    }\n",
       "\n",
       "    .dataframe tbody tr th {\n",
       "        vertical-align: top;\n",
       "    }\n",
       "\n",
       "    .dataframe thead th {\n",
       "        text-align: right;\n",
       "    }\n",
       "</style>\n",
       "<table border=\"1\" class=\"dataframe\">\n",
       "  <thead>\n",
       "    <tr style=\"text-align: right;\">\n",
       "      <th></th>\n",
       "      <th>0</th>\n",
       "      <th>1</th>\n",
       "      <th>2</th>\n",
       "      <th>3</th>\n",
       "      <th>4</th>\n",
       "      <th>5</th>\n",
       "      <th>6</th>\n",
       "      <th>7</th>\n",
       "      <th>8</th>\n",
       "    </tr>\n",
       "  </thead>\n",
       "  <tbody>\n",
       "    <tr>\n",
       "      <th>0</th>\n",
       "      <td>1.0</td>\n",
       "      <td>-15.936758</td>\n",
       "      <td>253.980260</td>\n",
       "      <td>-4047.621971</td>\n",
       "      <td>6.450597e+04</td>\n",
       "      <td>-1.028016e+06</td>\n",
       "      <td>1.638324e+07</td>\n",
       "      <td>-2.610958e+08</td>\n",
       "      <td>4.161020e+09</td>\n",
       "    </tr>\n",
       "    <tr>\n",
       "      <th>1</th>\n",
       "      <td>1.0</td>\n",
       "      <td>-29.152979</td>\n",
       "      <td>849.896197</td>\n",
       "      <td>-24777.006175</td>\n",
       "      <td>7.223235e+05</td>\n",
       "      <td>-2.105788e+07</td>\n",
       "      <td>6.139000e+08</td>\n",
       "      <td>-1.789701e+10</td>\n",
       "      <td>5.217513e+11</td>\n",
       "    </tr>\n",
       "    <tr>\n",
       "      <th>2</th>\n",
       "      <td>1.0</td>\n",
       "      <td>36.189549</td>\n",
       "      <td>1309.683430</td>\n",
       "      <td>47396.852168</td>\n",
       "      <td>1.715271e+06</td>\n",
       "      <td>6.207487e+07</td>\n",
       "      <td>2.246462e+09</td>\n",
       "      <td>8.129843e+10</td>\n",
       "      <td>2.942154e+12</td>\n",
       "    </tr>\n",
       "    <tr>\n",
       "      <th>3</th>\n",
       "      <td>1.0</td>\n",
       "      <td>37.492187</td>\n",
       "      <td>1405.664111</td>\n",
       "      <td>52701.422173</td>\n",
       "      <td>1.975892e+06</td>\n",
       "      <td>7.408050e+07</td>\n",
       "      <td>2.777440e+09</td>\n",
       "      <td>1.041323e+11</td>\n",
       "      <td>3.904148e+12</td>\n",
       "    </tr>\n",
       "    <tr>\n",
       "      <th>4</th>\n",
       "      <td>1.0</td>\n",
       "      <td>-48.058829</td>\n",
       "      <td>2309.651088</td>\n",
       "      <td>-110999.127750</td>\n",
       "      <td>5.334488e+06</td>\n",
       "      <td>-2.563693e+08</td>\n",
       "      <td>1.232081e+10</td>\n",
       "      <td>-5.921235e+11</td>\n",
       "      <td>2.845676e+13</td>\n",
       "    </tr>\n",
       "    <tr>\n",
       "      <th>5</th>\n",
       "      <td>1.0</td>\n",
       "      <td>-8.941458</td>\n",
       "      <td>79.949670</td>\n",
       "      <td>-714.866612</td>\n",
       "      <td>6.391950e+03</td>\n",
       "      <td>-5.715335e+04</td>\n",
       "      <td>5.110343e+05</td>\n",
       "      <td>-4.569391e+06</td>\n",
       "      <td>4.085702e+07</td>\n",
       "    </tr>\n",
       "    <tr>\n",
       "      <th>6</th>\n",
       "      <td>1.0</td>\n",
       "      <td>15.307793</td>\n",
       "      <td>234.328523</td>\n",
       "      <td>3587.052500</td>\n",
       "      <td>5.490986e+04</td>\n",
       "      <td>8.405487e+05</td>\n",
       "      <td>1.286695e+07</td>\n",
       "      <td>1.969645e+08</td>\n",
       "      <td>3.015092e+09</td>\n",
       "    </tr>\n",
       "    <tr>\n",
       "      <th>7</th>\n",
       "      <td>1.0</td>\n",
       "      <td>-34.706266</td>\n",
       "      <td>1204.524887</td>\n",
       "      <td>-41804.560890</td>\n",
       "      <td>1.450880e+06</td>\n",
       "      <td>-5.035463e+07</td>\n",
       "      <td>1.747621e+09</td>\n",
       "      <td>-6.065341e+10</td>\n",
       "      <td>2.105053e+12</td>\n",
       "    </tr>\n",
       "    <tr>\n",
       "      <th>8</th>\n",
       "      <td>1.0</td>\n",
       "      <td>1.389154</td>\n",
       "      <td>1.929750</td>\n",
       "      <td>2.680720</td>\n",
       "      <td>3.723935e+00</td>\n",
       "      <td>5.173120e+00</td>\n",
       "      <td>7.186262e+00</td>\n",
       "      <td>9.982827e+00</td>\n",
       "      <td>1.386769e+01</td>\n",
       "    </tr>\n",
       "    <tr>\n",
       "      <th>9</th>\n",
       "      <td>1.0</td>\n",
       "      <td>-44.383760</td>\n",
       "      <td>1969.918139</td>\n",
       "      <td>-87432.373590</td>\n",
       "      <td>3.880577e+06</td>\n",
       "      <td>-1.722346e+08</td>\n",
       "      <td>7.644420e+09</td>\n",
       "      <td>-3.392881e+11</td>\n",
       "      <td>1.505888e+13</td>\n",
       "    </tr>\n",
       "    <tr>\n",
       "      <th>10</th>\n",
       "      <td>1.0</td>\n",
       "      <td>7.013502</td>\n",
       "      <td>49.189211</td>\n",
       "      <td>344.988637</td>\n",
       "      <td>2.419579e+03</td>\n",
       "      <td>1.696972e+04</td>\n",
       "      <td>1.190172e+05</td>\n",
       "      <td>8.347271e+05</td>\n",
       "      <td>5.854360e+06</td>\n",
       "    </tr>\n",
       "    <tr>\n",
       "      <th>11</th>\n",
       "      <td>1.0</td>\n",
       "      <td>22.762749</td>\n",
       "      <td>518.142738</td>\n",
       "      <td>11794.353058</td>\n",
       "      <td>2.684719e+05</td>\n",
       "      <td>6.111158e+06</td>\n",
       "      <td>1.391068e+08</td>\n",
       "      <td>3.166452e+09</td>\n",
       "      <td>7.207716e+10</td>\n",
       "    </tr>\n",
       "  </tbody>\n",
       "</table>\n",
       "</div>"
      ],
      "text/plain": [
       "      0          1            2              3             4             5  \\\n",
       "0   1.0 -15.936758   253.980260   -4047.621971  6.450597e+04 -1.028016e+06   \n",
       "1   1.0 -29.152979   849.896197  -24777.006175  7.223235e+05 -2.105788e+07   \n",
       "2   1.0  36.189549  1309.683430   47396.852168  1.715271e+06  6.207487e+07   \n",
       "3   1.0  37.492187  1405.664111   52701.422173  1.975892e+06  7.408050e+07   \n",
       "4   1.0 -48.058829  2309.651088 -110999.127750  5.334488e+06 -2.563693e+08   \n",
       "5   1.0  -8.941458    79.949670    -714.866612  6.391950e+03 -5.715335e+04   \n",
       "6   1.0  15.307793   234.328523    3587.052500  5.490986e+04  8.405487e+05   \n",
       "7   1.0 -34.706266  1204.524887  -41804.560890  1.450880e+06 -5.035463e+07   \n",
       "8   1.0   1.389154     1.929750       2.680720  3.723935e+00  5.173120e+00   \n",
       "9   1.0 -44.383760  1969.918139  -87432.373590  3.880577e+06 -1.722346e+08   \n",
       "10  1.0   7.013502    49.189211     344.988637  2.419579e+03  1.696972e+04   \n",
       "11  1.0  22.762749   518.142738   11794.353058  2.684719e+05  6.111158e+06   \n",
       "\n",
       "               6             7             8  \n",
       "0   1.638324e+07 -2.610958e+08  4.161020e+09  \n",
       "1   6.139000e+08 -1.789701e+10  5.217513e+11  \n",
       "2   2.246462e+09  8.129843e+10  2.942154e+12  \n",
       "3   2.777440e+09  1.041323e+11  3.904148e+12  \n",
       "4   1.232081e+10 -5.921235e+11  2.845676e+13  \n",
       "5   5.110343e+05 -4.569391e+06  4.085702e+07  \n",
       "6   1.286695e+07  1.969645e+08  3.015092e+09  \n",
       "7   1.747621e+09 -6.065341e+10  2.105053e+12  \n",
       "8   7.186262e+00  9.982827e+00  1.386769e+01  \n",
       "9   7.644420e+09 -3.392881e+11  1.505888e+13  \n",
       "10  1.190172e+05  8.347271e+05  5.854360e+06  \n",
       "11  1.391068e+08  3.166452e+09  7.207716e+10  "
      ]
     },
     "execution_count": 153,
     "metadata": {},
     "output_type": "execute_result"
    }
   ],
   "source": [
    "tmp=poly_features(X,8)\n",
    "pd.DataFrame(tmp)"
   ]
  },
  {
   "cell_type": "code",
   "execution_count": 173,
   "metadata": {},
   "outputs": [],
   "source": [
    "X_poly = poly_features(X,8)"
   ]
  },
  {
   "cell_type": "markdown",
   "metadata": {},
   "source": [
    "# normalization  标准化"
   ]
  },
  {
   "cell_type": "code",
   "execution_count": 172,
   "metadata": {},
   "outputs": [],
   "source": [
    "#def normalize_feature(df):\n",
    "#    \"\"\"Applies function along input axis(default 0) of DataFrame.\"\"\"\n",
    "#    return df.apply(lambda column: (column - column.mean()) / column.std())"
   ]
  },
  {
   "cell_type": "code",
   "execution_count": 174,
   "metadata": {},
   "outputs": [
    {
     "data": {
      "text/html": [
       "<div>\n",
       "<style scoped>\n",
       "    .dataframe tbody tr th:only-of-type {\n",
       "        vertical-align: middle;\n",
       "    }\n",
       "\n",
       "    .dataframe tbody tr th {\n",
       "        vertical-align: top;\n",
       "    }\n",
       "\n",
       "    .dataframe thead th {\n",
       "        text-align: right;\n",
       "    }\n",
       "</style>\n",
       "<table border=\"1\" class=\"dataframe\">\n",
       "  <thead>\n",
       "    <tr style=\"text-align: right;\">\n",
       "      <th></th>\n",
       "      <th>0</th>\n",
       "      <th>1</th>\n",
       "      <th>2</th>\n",
       "      <th>3</th>\n",
       "      <th>4</th>\n",
       "      <th>5</th>\n",
       "      <th>6</th>\n",
       "      <th>7</th>\n",
       "      <th>8</th>\n",
       "    </tr>\n",
       "  </thead>\n",
       "  <tbody>\n",
       "    <tr>\n",
       "      <th>0</th>\n",
       "      <td>NaN</td>\n",
       "      <td>-0.362141</td>\n",
       "      <td>-0.755087</td>\n",
       "      <td>0.182226</td>\n",
       "      <td>-0.706190</td>\n",
       "      <td>0.306618</td>\n",
       "      <td>-0.590878</td>\n",
       "      <td>0.344516</td>\n",
       "      <td>-0.508481</td>\n",
       "    </tr>\n",
       "    <tr>\n",
       "      <th>1</th>\n",
       "      <td>NaN</td>\n",
       "      <td>-0.803205</td>\n",
       "      <td>0.001258</td>\n",
       "      <td>-0.247937</td>\n",
       "      <td>-0.327023</td>\n",
       "      <td>0.093396</td>\n",
       "      <td>-0.435818</td>\n",
       "      <td>0.255416</td>\n",
       "      <td>-0.448912</td>\n",
       "    </tr>\n",
       "    <tr>\n",
       "      <th>2</th>\n",
       "      <td>NaN</td>\n",
       "      <td>1.377467</td>\n",
       "      <td>0.584827</td>\n",
       "      <td>1.249769</td>\n",
       "      <td>0.245312</td>\n",
       "      <td>0.978360</td>\n",
       "      <td>-0.012156</td>\n",
       "      <td>0.756568</td>\n",
       "      <td>-0.170352</td>\n",
       "    </tr>\n",
       "    <tr>\n",
       "      <th>3</th>\n",
       "      <td>NaN</td>\n",
       "      <td>1.420940</td>\n",
       "      <td>0.706647</td>\n",
       "      <td>1.359846</td>\n",
       "      <td>0.395534</td>\n",
       "      <td>1.106162</td>\n",
       "      <td>0.125637</td>\n",
       "      <td>0.871929</td>\n",
       "      <td>-0.059638</td>\n",
       "    </tr>\n",
       "    <tr>\n",
       "      <th>4</th>\n",
       "      <td>NaN</td>\n",
       "      <td>-1.434149</td>\n",
       "      <td>1.854000</td>\n",
       "      <td>-2.037163</td>\n",
       "      <td>2.331431</td>\n",
       "      <td>-2.411536</td>\n",
       "      <td>2.602212</td>\n",
       "      <td>-2.645675</td>\n",
       "      <td>2.766085</td>\n",
       "    </tr>\n",
       "    <tr>\n",
       "      <th>5</th>\n",
       "      <td>NaN</td>\n",
       "      <td>-0.128687</td>\n",
       "      <td>-0.975969</td>\n",
       "      <td>0.251385</td>\n",
       "      <td>-0.739687</td>\n",
       "      <td>0.316953</td>\n",
       "      <td>-0.594997</td>\n",
       "      <td>0.345812</td>\n",
       "      <td>-0.508955</td>\n",
       "    </tr>\n",
       "    <tr>\n",
       "      <th>6</th>\n",
       "      <td>NaN</td>\n",
       "      <td>0.680582</td>\n",
       "      <td>-0.780029</td>\n",
       "      <td>0.340656</td>\n",
       "      <td>-0.711721</td>\n",
       "      <td>0.326509</td>\n",
       "      <td>-0.591790</td>\n",
       "      <td>0.346830</td>\n",
       "      <td>-0.508613</td>\n",
       "    </tr>\n",
       "    <tr>\n",
       "      <th>7</th>\n",
       "      <td>NaN</td>\n",
       "      <td>-0.988534</td>\n",
       "      <td>0.451358</td>\n",
       "      <td>-0.601282</td>\n",
       "      <td>0.092917</td>\n",
       "      <td>-0.218473</td>\n",
       "      <td>-0.141608</td>\n",
       "      <td>0.039403</td>\n",
       "      <td>-0.266693</td>\n",
       "    </tr>\n",
       "    <tr>\n",
       "      <th>8</th>\n",
       "      <td>NaN</td>\n",
       "      <td>0.216076</td>\n",
       "      <td>-1.074993</td>\n",
       "      <td>0.266275</td>\n",
       "      <td>-0.743369</td>\n",
       "      <td>0.317561</td>\n",
       "      <td>-0.595129</td>\n",
       "      <td>0.345835</td>\n",
       "      <td>-0.508960</td>\n",
       "    </tr>\n",
       "    <tr>\n",
       "      <th>9</th>\n",
       "      <td>NaN</td>\n",
       "      <td>-1.311501</td>\n",
       "      <td>1.422806</td>\n",
       "      <td>-1.548121</td>\n",
       "      <td>1.493396</td>\n",
       "      <td>-1.515908</td>\n",
       "      <td>1.388655</td>\n",
       "      <td>-1.368307</td>\n",
       "      <td>1.224144</td>\n",
       "    </tr>\n",
       "    <tr>\n",
       "      <th>10</th>\n",
       "      <td>NaN</td>\n",
       "      <td>0.403777</td>\n",
       "      <td>-1.015010</td>\n",
       "      <td>0.273379</td>\n",
       "      <td>-0.741977</td>\n",
       "      <td>0.317742</td>\n",
       "      <td>-0.595098</td>\n",
       "      <td>0.345839</td>\n",
       "      <td>-0.508959</td>\n",
       "    </tr>\n",
       "    <tr>\n",
       "      <th>11</th>\n",
       "      <td>NaN</td>\n",
       "      <td>0.929375</td>\n",
       "      <td>-0.419808</td>\n",
       "      <td>0.510968</td>\n",
       "      <td>-0.588624</td>\n",
       "      <td>0.382616</td>\n",
       "      <td>-0.559030</td>\n",
       "      <td>0.361832</td>\n",
       "      <td>-0.500665</td>\n",
       "    </tr>\n",
       "  </tbody>\n",
       "</table>\n",
       "</div>"
      ],
      "text/plain": [
       "     0         1         2         3         4         5         6         7  \\\n",
       "0  NaN -0.362141 -0.755087  0.182226 -0.706190  0.306618 -0.590878  0.344516   \n",
       "1  NaN -0.803205  0.001258 -0.247937 -0.327023  0.093396 -0.435818  0.255416   \n",
       "2  NaN  1.377467  0.584827  1.249769  0.245312  0.978360 -0.012156  0.756568   \n",
       "3  NaN  1.420940  0.706647  1.359846  0.395534  1.106162  0.125637  0.871929   \n",
       "4  NaN -1.434149  1.854000 -2.037163  2.331431 -2.411536  2.602212 -2.645675   \n",
       "5  NaN -0.128687 -0.975969  0.251385 -0.739687  0.316953 -0.594997  0.345812   \n",
       "6  NaN  0.680582 -0.780029  0.340656 -0.711721  0.326509 -0.591790  0.346830   \n",
       "7  NaN -0.988534  0.451358 -0.601282  0.092917 -0.218473 -0.141608  0.039403   \n",
       "8  NaN  0.216076 -1.074993  0.266275 -0.743369  0.317561 -0.595129  0.345835   \n",
       "9  NaN -1.311501  1.422806 -1.548121  1.493396 -1.515908  1.388655 -1.368307   \n",
       "10 NaN  0.403777 -1.015010  0.273379 -0.741977  0.317742 -0.595098  0.345839   \n",
       "11 NaN  0.929375 -0.419808  0.510968 -0.588624  0.382616 -0.559030  0.361832   \n",
       "\n",
       "           8  \n",
       "0  -0.508481  \n",
       "1  -0.448912  \n",
       "2  -0.170352  \n",
       "3  -0.059638  \n",
       "4   2.766085  \n",
       "5  -0.508955  \n",
       "6  -0.508613  \n",
       "7  -0.266693  \n",
       "8  -0.508960  \n",
       "9   1.224144  \n",
       "10 -0.508959  \n",
       "11 -0.500665  "
      ]
     },
     "execution_count": 174,
     "metadata": {},
     "output_type": "execute_result"
    }
   ],
   "source": [
    "#normalize_feature(pd.DataFrame(X_poly))"
   ]
  },
  {
   "cell_type": "code",
   "execution_count": 171,
   "metadata": {},
   "outputs": [],
   "source": [
    "from sklearn.preprocessing import StandardScaler"
   ]
  },
  {
   "cell_type": "code",
   "execution_count": 180,
   "metadata": {},
   "outputs": [],
   "source": [
    "def normalize_feature(x):\n",
    "    scaler = StandardScaler() #实例化\n",
    "    scaler.fit(x)\n",
    "    #scaler.mean_\n",
    "    tmp = scaler.transform(x)\n",
    "    tmp[:,0] = 1\n",
    "    return tmp \n",
    "    "
   ]
  },
  {
   "cell_type": "code",
   "execution_count": 183,
   "metadata": {
    "scrolled": true
   },
   "outputs": [
    {
     "data": {
      "text/html": [
       "<div>\n",
       "<style scoped>\n",
       "    .dataframe tbody tr th:only-of-type {\n",
       "        vertical-align: middle;\n",
       "    }\n",
       "\n",
       "    .dataframe tbody tr th {\n",
       "        vertical-align: top;\n",
       "    }\n",
       "\n",
       "    .dataframe thead th {\n",
       "        text-align: right;\n",
       "    }\n",
       "</style>\n",
       "<table border=\"1\" class=\"dataframe\">\n",
       "  <thead>\n",
       "    <tr style=\"text-align: right;\">\n",
       "      <th></th>\n",
       "      <th>0</th>\n",
       "      <th>1</th>\n",
       "      <th>2</th>\n",
       "      <th>3</th>\n",
       "      <th>4</th>\n",
       "      <th>5</th>\n",
       "      <th>6</th>\n",
       "      <th>7</th>\n",
       "      <th>8</th>\n",
       "    </tr>\n",
       "  </thead>\n",
       "  <tbody>\n",
       "    <tr>\n",
       "      <th>0</th>\n",
       "      <td>1.0</td>\n",
       "      <td>-0.378244</td>\n",
       "      <td>-0.788662</td>\n",
       "      <td>0.190329</td>\n",
       "      <td>-0.737591</td>\n",
       "      <td>0.320252</td>\n",
       "      <td>-0.617152</td>\n",
       "      <td>0.359835</td>\n",
       "      <td>-0.531091</td>\n",
       "    </tr>\n",
       "    <tr>\n",
       "      <th>1</th>\n",
       "      <td>1.0</td>\n",
       "      <td>-0.838920</td>\n",
       "      <td>0.001314</td>\n",
       "      <td>-0.258962</td>\n",
       "      <td>-0.341565</td>\n",
       "      <td>0.097549</td>\n",
       "      <td>-0.455197</td>\n",
       "      <td>0.266773</td>\n",
       "      <td>-0.468874</td>\n",
       "    </tr>\n",
       "    <tr>\n",
       "      <th>2</th>\n",
       "      <td>1.0</td>\n",
       "      <td>1.438717</td>\n",
       "      <td>0.610832</td>\n",
       "      <td>1.305341</td>\n",
       "      <td>0.256220</td>\n",
       "      <td>1.021863</td>\n",
       "      <td>-0.012696</td>\n",
       "      <td>0.790210</td>\n",
       "      <td>-0.177927</td>\n",
       "    </tr>\n",
       "    <tr>\n",
       "      <th>3</th>\n",
       "      <td>1.0</td>\n",
       "      <td>1.484123</td>\n",
       "      <td>0.738068</td>\n",
       "      <td>1.420312</td>\n",
       "      <td>0.413122</td>\n",
       "      <td>1.155348</td>\n",
       "      <td>0.131224</td>\n",
       "      <td>0.910700</td>\n",
       "      <td>-0.062290</td>\n",
       "    </tr>\n",
       "    <tr>\n",
       "      <th>4</th>\n",
       "      <td>1.0</td>\n",
       "      <td>-1.497919</td>\n",
       "      <td>1.936440</td>\n",
       "      <td>-2.127747</td>\n",
       "      <td>2.435101</td>\n",
       "      <td>-2.518767</td>\n",
       "      <td>2.717922</td>\n",
       "      <td>-2.763317</td>\n",
       "      <td>2.889082</td>\n",
       "    </tr>\n",
       "    <tr>\n",
       "      <th>5</th>\n",
       "      <td>1.0</td>\n",
       "      <td>-0.134409</td>\n",
       "      <td>-1.019366</td>\n",
       "      <td>0.262563</td>\n",
       "      <td>-0.772578</td>\n",
       "      <td>0.331047</td>\n",
       "      <td>-0.621454</td>\n",
       "      <td>0.361189</td>\n",
       "      <td>-0.531587</td>\n",
       "    </tr>\n",
       "    <tr>\n",
       "      <th>6</th>\n",
       "      <td>1.0</td>\n",
       "      <td>0.710844</td>\n",
       "      <td>-0.814714</td>\n",
       "      <td>0.355803</td>\n",
       "      <td>-0.743368</td>\n",
       "      <td>0.341028</td>\n",
       "      <td>-0.618105</td>\n",
       "      <td>0.362252</td>\n",
       "      <td>-0.531229</td>\n",
       "    </tr>\n",
       "    <tr>\n",
       "      <th>7</th>\n",
       "      <td>1.0</td>\n",
       "      <td>-1.032490</td>\n",
       "      <td>0.471428</td>\n",
       "      <td>-0.628018</td>\n",
       "      <td>0.097049</td>\n",
       "      <td>-0.228188</td>\n",
       "      <td>-0.147905</td>\n",
       "      <td>0.041156</td>\n",
       "      <td>-0.278551</td>\n",
       "    </tr>\n",
       "    <tr>\n",
       "      <th>8</th>\n",
       "      <td>1.0</td>\n",
       "      <td>0.225684</td>\n",
       "      <td>-1.122793</td>\n",
       "      <td>0.278115</td>\n",
       "      <td>-0.776424</td>\n",
       "      <td>0.331682</td>\n",
       "      <td>-0.621592</td>\n",
       "      <td>0.361213</td>\n",
       "      <td>-0.531591</td>\n",
       "    </tr>\n",
       "    <tr>\n",
       "      <th>9</th>\n",
       "      <td>1.0</td>\n",
       "      <td>-1.369818</td>\n",
       "      <td>1.486072</td>\n",
       "      <td>-1.616960</td>\n",
       "      <td>1.559802</td>\n",
       "      <td>-1.583314</td>\n",
       "      <td>1.450403</td>\n",
       "      <td>-1.429150</td>\n",
       "      <td>1.278576</td>\n",
       "    </tr>\n",
       "    <tr>\n",
       "      <th>10</th>\n",
       "      <td>1.0</td>\n",
       "      <td>0.421731</td>\n",
       "      <td>-1.060144</td>\n",
       "      <td>0.285535</td>\n",
       "      <td>-0.774969</td>\n",
       "      <td>0.331871</td>\n",
       "      <td>-0.621560</td>\n",
       "      <td>0.361217</td>\n",
       "      <td>-0.531591</td>\n",
       "    </tr>\n",
       "    <tr>\n",
       "      <th>11</th>\n",
       "      <td>1.0</td>\n",
       "      <td>0.970701</td>\n",
       "      <td>-0.438475</td>\n",
       "      <td>0.533689</td>\n",
       "      <td>-0.614798</td>\n",
       "      <td>0.399629</td>\n",
       "      <td>-0.583888</td>\n",
       "      <td>0.377922</td>\n",
       "      <td>-0.522927</td>\n",
       "    </tr>\n",
       "  </tbody>\n",
       "</table>\n",
       "</div>"
      ],
      "text/plain": [
       "      0         1         2         3         4         5         6         7  \\\n",
       "0   1.0 -0.378244 -0.788662  0.190329 -0.737591  0.320252 -0.617152  0.359835   \n",
       "1   1.0 -0.838920  0.001314 -0.258962 -0.341565  0.097549 -0.455197  0.266773   \n",
       "2   1.0  1.438717  0.610832  1.305341  0.256220  1.021863 -0.012696  0.790210   \n",
       "3   1.0  1.484123  0.738068  1.420312  0.413122  1.155348  0.131224  0.910700   \n",
       "4   1.0 -1.497919  1.936440 -2.127747  2.435101 -2.518767  2.717922 -2.763317   \n",
       "5   1.0 -0.134409 -1.019366  0.262563 -0.772578  0.331047 -0.621454  0.361189   \n",
       "6   1.0  0.710844 -0.814714  0.355803 -0.743368  0.341028 -0.618105  0.362252   \n",
       "7   1.0 -1.032490  0.471428 -0.628018  0.097049 -0.228188 -0.147905  0.041156   \n",
       "8   1.0  0.225684 -1.122793  0.278115 -0.776424  0.331682 -0.621592  0.361213   \n",
       "9   1.0 -1.369818  1.486072 -1.616960  1.559802 -1.583314  1.450403 -1.429150   \n",
       "10  1.0  0.421731 -1.060144  0.285535 -0.774969  0.331871 -0.621560  0.361217   \n",
       "11  1.0  0.970701 -0.438475  0.533689 -0.614798  0.399629 -0.583888  0.377922   \n",
       "\n",
       "           8  \n",
       "0  -0.531091  \n",
       "1  -0.468874  \n",
       "2  -0.177927  \n",
       "3  -0.062290  \n",
       "4   2.889082  \n",
       "5  -0.531587  \n",
       "6  -0.531229  \n",
       "7  -0.278551  \n",
       "8  -0.531591  \n",
       "9   1.278576  \n",
       "10 -0.531591  \n",
       "11 -0.522927  "
      ]
     },
     "execution_count": 183,
     "metadata": {},
     "output_type": "execute_result"
    }
   ],
   "source": [
    "X_poly_scaled = normalize_feature(X_poly)\n",
    "Xval_ploy = poly_features(Xval,8)\n",
    "Xval_poly_scaled = normalize_feature(Xval_ploy)\n",
    "pd.DataFrame(X_poly_scaled)"
   ]
  },
  {
   "cell_type": "code",
   "execution_count": 196,
   "metadata": {},
   "outputs": [
    {
     "data": {
      "text/plain": [
       "([2.0724271042041673,\n",
       "  3.1300314223588392,\n",
       "  3.1167547431183955,\n",
       "  88.23625168264705,\n",
       "  154.8460018845222,\n",
       "  129.71248681901588,\n",
       "  118.69698528908673,\n",
       "  128.48393782986588,\n",
       "  114.72567347807768,\n",
       "  117.80298456456337,\n",
       "  107.62380995701056,\n",
       "  98.3656895515198],\n",
       " [nan, nan, nan, nan, nan, nan, nan, nan, nan, nan, nan, nan])"
      ]
     },
     "execution_count": 196,
     "metadata": {},
     "output_type": "execute_result"
    }
   ],
   "source": [
    "get_Jcost(X_poly_scaled,y,Xval_poly_scaled,yval)"
   ]
  },
  {
   "cell_type": "code",
   "execution_count": 197,
   "metadata": {},
   "outputs": [],
   "source": [
    "def plot_learning_curve(X, y, Xval, yval, l=0):\n",
    "    training_cost, cv_cost = [], []\n",
    "    m = X.shape[0]\n",
    "\n",
    "    for i in range(1, m + 1):\n",
    "        # regularization applies here for fitting parameters\n",
    "        res = linear_regression_np(X[:i, :], y[:i], l=l)\n",
    "\n",
    "        # remember, when you compute the cost here, you are computing\n",
    "        # non-regularized cost. Regularization is used to fit parameters only\n",
    "        tc = cost(res.x, X[:i, :], y[:i])\n",
    "        cv = cost(res.x, Xval, yval)\n",
    "\n",
    "        training_cost.append(tc)\n",
    "        cv_cost.append(cv)\n",
    "\n",
    "    plt.plot(np.arange(1, m + 1), training_cost, label='training cost')\n",
    "    plt.plot(np.arange(1, m + 1), cv_cost, label='cv cost')\n",
    "    plt.legend(loc=1)\n"
   ]
  },
  {
   "cell_type": "code",
   "execution_count": 198,
   "metadata": {},
   "outputs": [
    {
     "data": {
      "image/png": "[encoded data removed]",
      "text/plain": [
       "<Figure size 432x288 with 1 Axes>"
      ]
     },
     "metadata": {
      "needs_background": "light"
     },
     "output_type": "display_data"
    }
   ],
   "source": [
    "plot_learning_curve(X_poly_scaled,y,Xval_poly_scaled,yval)"
   ]
  }
 ],
 "metadata": {
  "kernelspec": {
   "display_name": "Python 3",
   "language": "python",
   "name": "python3"
  },
  "language_info": {
   "codemirror_mode": {
    "name": "ipython",
    "version": 3
   },
   "file_extension": ".py",
   "mimetype": "text/x-python",
   "name": "python",
   "nbconvert_exporter": "python",
   "pygments_lexer": "ipython3",
   "version": "3.7.3"
  }
 },
 "nbformat": 4,
 "nbformat_minor": 4
}
