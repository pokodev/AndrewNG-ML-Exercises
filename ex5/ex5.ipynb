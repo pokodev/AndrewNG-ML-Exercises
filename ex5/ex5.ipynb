{
 "cells": [
  {
   "cell_type": "markdown",
   "metadata": {},
   "source": [
    "## 正则化线性回归"
   ]
  },
  {
   "cell_type": "code",
   "execution_count": 1,
   "metadata": {},
   "outputs": [],
   "source": [
    "import pandas as pd\n",
    "import numpy as np\n",
    "import matplotlib.pyplot as plt \n",
    "%matplotlib inline \n",
    "from scipy.io import loadmat\n",
    "import scipy.optimize as opt"
   ]
  },
  {
   "cell_type": "code",
   "execution_count": 21,
   "metadata": {},
   "outputs": [],
   "source": [
    "# load data\n",
    "X=loadmat('ex5data1.mat')['X'] \n",
    "y=loadmat('ex5data1.mat')['y'].ravel() #展开成一维，下同\n",
    "Xval = loadmat('ex5data1.mat')['Xval']\n",
    "yval = loadmat('ex5data1.mat')['yval'].ravel()\n",
    "Xtest = loadmat('ex5data1.mat')['Xtest']\n",
    "ytest = loadmat('ex5data1.mat')['ytest'].ravel()"
   ]
  },
  {
   "cell_type": "code",
   "execution_count": 3,
   "metadata": {},
   "outputs": [
    {
     "data": {
      "text/plain": [
       "[Text(0.5, 0, 'X'), Text(0, 0.5, 'y')]"
      ]
     },
     "execution_count": 3,
     "metadata": {},
     "output_type": "execute_result"
    },
    {
     "data": {
      "image/png": "[encoded data removed]",
      "text/plain": [
       "<Figure size 432x288 with 1 Axes>"
      ]
     },
     "metadata": {
      "needs_background": "light"
     },
     "output_type": "display_data"
    }
   ],
   "source": [
    "#可视化\n",
    "fig,ax = plt.subplots()\n",
    "ax.scatter(X,y)\n",
    "ax.set(xlabel='X',ylabel='y')"
   ]
  },
  {
   "cell_type": "code",
   "execution_count": 4,
   "metadata": {},
   "outputs": [],
   "source": [
    "def insertOnes(x):\n",
    "    return np.insert(x,0,np.ones(x.shape[0]),axis=1) # 给X插入1"
   ]
  },
  {
   "cell_type": "code",
   "execution_count": 22,
   "metadata": {},
   "outputs": [
    {
     "data": {
      "text/plain": [
       "array([[  1.        , -16.74653578],\n",
       "       [  1.        , -14.57747075],\n",
       "       [  1.        ,  34.51575866],\n",
       "       [  1.        , -47.01007574],\n",
       "       [  1.        ,  36.97511905],\n",
       "       [  1.        , -40.68611002],\n",
       "       [  1.        ,  -4.47201098],\n",
       "       [  1.        ,  26.53363489],\n",
       "       [  1.        , -42.7976831 ],\n",
       "       [  1.        ,  25.37409938],\n",
       "       [  1.        , -31.10955398],\n",
       "       [  1.        ,  27.31176864],\n",
       "       [  1.        ,  -3.26386201],\n",
       "       [  1.        ,  -1.81827649],\n",
       "       [  1.        , -40.7196624 ],\n",
       "       [  1.        , -50.01324365],\n",
       "       [  1.        , -17.41177155],\n",
       "       [  1.        ,   3.5881937 ],\n",
       "       [  1.        ,   7.08548026],\n",
       "       [  1.        ,  46.28236902],\n",
       "       [  1.        ,  14.61228909]])"
      ]
     },
     "execution_count": 22,
     "metadata": {},
     "output_type": "execute_result"
    }
   ],
   "source": [
    "X=insertOnes(X)\n",
    "Xval = insertOnes(Xval)\n",
    "Xval "
   ]
  },
  {
   "cell_type": "code",
   "execution_count": 6,
   "metadata": {},
   "outputs": [
    {
     "data": {
      "text/plain": [
       "array([0., 0.])"
      ]
     },
     "execution_count": 6,
     "metadata": {},
     "output_type": "execute_result"
    }
   ],
   "source": [
    "theta = np.zeros(X.shape[1])\n",
    "theta"
   ]
  },
  {
   "cell_type": "code",
   "execution_count": 7,
   "metadata": {},
   "outputs": [],
   "source": [
    "#正则化损失函数\n",
    "def cost(theta,X,y):\n",
    "    m = X.shape[0] # 样本数目\n",
    "    error = np.sum(np.square(X.dot(theta.T) - y))\n",
    "    return error / (2*m)"
   ]
  },
  {
   "cell_type": "code",
   "execution_count": 8,
   "metadata": {},
   "outputs": [],
   "source": [
    "def r_cost(theta,X,y,l=1):\n",
    "    m = X.shape[0]\n",
    "    r = (np.sum(np.square(theta[1:]))) * (l/(2*m))\n",
    "    return cost(theta,X,y) + r"
   ]
  },
  {
   "cell_type": "code",
   "execution_count": 9,
   "metadata": {},
   "outputs": [
    {
     "data": {
      "text/plain": [
       "303.9931922202643"
      ]
     },
     "execution_count": 9,
     "metadata": {},
     "output_type": "execute_result"
    }
   ],
   "source": [
    "theta = np.ones(X.shape[1]) # 将theta 的初始值变为1\n",
    "r_cost(theta,X,y)"
   ]
  },
  {
   "cell_type": "code",
   "execution_count": 10,
   "metadata": {},
   "outputs": [
    {
     "data": {
      "text/plain": [
       "array([1., 1.])"
      ]
     },
     "execution_count": 10,
     "metadata": {},
     "output_type": "execute_result"
    }
   ],
   "source": [
    "theta"
   ]
  },
  {
   "cell_type": "markdown",
   "metadata": {},
   "source": [
    "## 梯度下降 regularized linear regression gradient "
   ]
  },
  {
   "cell_type": "code",
   "execution_count": 11,
   "metadata": {},
   "outputs": [],
   "source": [
    "def gradient(theta,X,y,l=1):\n",
    "    m = X.shape[0] # 样本个数\n",
    "    temptheta = theta.copy()\n",
    "    temptheta[0] = 0 # 将bias的系数变为0，这样后面算梯度就影响不到bias项了\n",
    "    r = temptheta * (l/m) # 正则化项\n",
    "    error = X.dot(theta.T) -y \n",
    "    gradTheta = X.T.dot(error) / m  + r \n",
    "    return gradTheta  "
   ]
  },
  {
   "cell_type": "code",
   "execution_count": 12,
   "metadata": {},
   "outputs": [
    {
     "data": {
      "text/plain": [
       "array([-15.30301567, 598.25074417])"
      ]
     },
     "execution_count": 12,
     "metadata": {},
     "output_type": "execute_result"
    }
   ],
   "source": [
    "gradient(theta,X,y)"
   ]
  },
  {
   "cell_type": "markdown",
   "metadata": {},
   "source": [
    "## 拟合线性回归\n"
   ]
  },
  {
   "cell_type": "code",
   "execution_count": 13,
   "metadata": {},
   "outputs": [],
   "source": [
    "def linear_regression_np(X, y, l=1):\n",
    "    \"\"\"linear regression\n",
    "    args:\n",
    "        X: feature matrix, (m, n+1) # with incercept x0=1\n",
    "        y: target vector, (m, )\n",
    "        l: lambda constant for regularization\n",
    "\n",
    "    return: trained parameters\n",
    "    \"\"\"\n",
    "    # init theta\n",
    "    theta = np.ones(X.shape[1])\n",
    "\n",
    "    # train it\n",
    "    res = opt.minimize(fun=r_cost,\n",
    "                       x0=theta,\n",
    "                       args=(X, y, l),\n",
    "                       method='TNC',\n",
    "                       jac=gradient,\n",
    "                       options={'disp': True})\n",
    "    return res\n"
   ]
  },
  {
   "cell_type": "code",
   "execution_count": 14,
   "metadata": {},
   "outputs": [
    {
     "data": {
      "text/plain": [
       "     fun: 22.379541822940265\n",
       "     jac: array([1.25341733e-08, 8.56473651e-08])\n",
       " message: 'Local minimum reached (|pg| ~= 0)'\n",
       "    nfev: 7\n",
       "     nit: 3\n",
       "  status: 0\n",
       " success: True\n",
       "       x: array([13.08771417,  0.367742  ])"
      ]
     },
     "execution_count": 14,
     "metadata": {},
     "output_type": "execute_result"
    }
   ],
   "source": [
    "linear_regression_np(X,y)"
   ]
  },
  {
   "cell_type": "code",
   "execution_count": 15,
   "metadata": {},
   "outputs": [
    {
     "data": {
      "text/plain": [
       "array([13.08790348,  0.36777923])"
      ]
     },
     "execution_count": 15,
     "metadata": {},
     "output_type": "execute_result"
    }
   ],
   "source": [
    "theta = linear_regression_np(X,y,l=0).x\n",
    "theta"
   ]
  },
  {
   "cell_type": "code",
   "execution_count": 16,
   "metadata": {},
   "outputs": [
    {
     "data": {
      "text/plain": [
       "[Text(0.5, 0, 'X'), Text(0, 0.5, 'y')]"
      ]
     },
     "execution_count": 16,
     "metadata": {},
     "output_type": "execute_result"
    },
    {
     "data": {
      "image/png": "[encoded data removed]",
      "text/plain": [
       "<Figure size 432x288 with 1 Axes>"
      ]
     },
     "metadata": {
      "needs_background": "light"
     },
     "output_type": "display_data"
    }
   ],
   "source": [
    "#可视化\n",
    "fig,ax = plt.subplots()\n",
    "ax.scatter(X[:,1:],y,label='Training data') #X 加上了1，改变了维度\n",
    "ax.plot(X[:,1:],X.dot(theta.T),color='r',label=\"Prediction\") # X.dot(theta.T) 很优雅\n",
    "ax.legend()\n",
    "ax.set(xlabel='X',ylabel='y')"
   ]
  },
  {
   "cell_type": "markdown",
   "metadata": {},
   "source": [
    "## bias-variance"
   ]
  },
  {
   "cell_type": "markdown",
   "metadata": {},
   "source": [
    "# learning curve #学习曲线"
   ]
  },
  {
   "cell_type": "code",
   "execution_count": 45,
   "metadata": {},
   "outputs": [],
   "source": [
    "def get_Jcost(Xtrain,ytrain,Xval,yval,l=0):\n",
    "    #theta = np.ones(Xtrain.shape[1]) #init theta\n",
    "    Jtrain = [] # 训练集的error\n",
    "    Jval = [] #验证集的error\n",
    "    for i in range(1,Xtrain.shape[0] + 1):\n",
    "        theta = linear_regression_np(Xtrain[:i],ytrain[:i],l=l).x #每增加一个数据集就重新拟合theta\n",
    "        Jtrain.append(cost(theta,Xtrain[:i],ytrain[:i])) # 计算error\n",
    "        Jval.append(cost(theta,Xval,yval)) #用训练集拟合的theta去计算测试集的error\n",
    "    return Jtrain,Jval"
   ]
  },
  {
   "cell_type": "code",
   "execution_count": 42,
   "metadata": {},
   "outputs": [],
   "source": [
    "Jtrain,Jval = get_Jcost(X,y,Xval,yval)"
   ]
  },
  {
   "cell_type": "code",
   "execution_count": 43,
   "metadata": {
    "scrolled": false
   },
   "outputs": [
    {
     "data": {
      "text/plain": [
       "<matplotlib.legend.Legend at 0x16d085a4320>"
      ]
     },
     "execution_count": 43,
     "metadata": {},
     "output_type": "execute_result"
    },
    {
     "data": {
      "image/png": "[encoded data removed]",
      "text/plain": [
       "<Figure size 432x288 with 1 Axes>"
      ]
     },
     "metadata": {
      "needs_background": "light"
     },
     "output_type": "display_data"
    }
   ],
   "source": [
    "fig,ax=plt.subplots()\n",
    "ax.plot(range(len(Jtrain)),Jtrain,label='Train')\n",
    "ax.plot(range(len(Jval)),Jval,label='Cross Validation')\n",
    "ax.legend()"
   ]
  },
  {
   "cell_type": "markdown",
   "metadata": {},
   "source": [
    "# Polynomial regression"
   ]
  },
  {
   "cell_type": "code",
   "execution_count": 25,
   "metadata": {},
   "outputs": [],
   "source": [
    "def poly_features(x,n):\n",
    "    tmp =[np.ones(x.shape[0])]\n",
    "    for i in range(1,n+1):\n",
    "        tmp.append(np.power(x[:,1],i))\n",
    "    return pd.DataFrame(tmp).values.T"
   ]
  },
  {
   "cell_type": "code",
   "execution_count": 26,
   "metadata": {},
   "outputs": [],
   "source": [
    "Xval_poly = pd.DataFrame(poly_features(Xval,8))"
   ]
  },
  {
   "cell_type": "code",
   "execution_count": 27,
   "metadata": {},
   "outputs": [
    {
     "data": {
      "text/html": [
       "<div>\n",
       "<style scoped>\n",
       "    .dataframe tbody tr th:only-of-type {\n",
       "        vertical-align: middle;\n",
       "    }\n",
       "\n",
       "    .dataframe tbody tr th {\n",
       "        vertical-align: top;\n",
       "    }\n",
       "\n",
       "    .dataframe thead th {\n",
       "        text-align: right;\n",
       "    }\n",
       "</style>\n",
       "<table border=\"1\" class=\"dataframe\">\n",
       "  <thead>\n",
       "    <tr style=\"text-align: right;\">\n",
       "      <th></th>\n",
       "      <th>0</th>\n",
       "      <th>1</th>\n",
       "      <th>2</th>\n",
       "      <th>3</th>\n",
       "      <th>4</th>\n",
       "      <th>5</th>\n",
       "      <th>6</th>\n",
       "      <th>7</th>\n",
       "      <th>8</th>\n",
       "    </tr>\n",
       "  </thead>\n",
       "  <tbody>\n",
       "    <tr>\n",
       "      <th>0</th>\n",
       "      <td>1.0</td>\n",
       "      <td>-15.936758</td>\n",
       "      <td>253.980260</td>\n",
       "      <td>-4047.621971</td>\n",
       "      <td>6.450597e+04</td>\n",
       "      <td>-1.028016e+06</td>\n",
       "      <td>1.638324e+07</td>\n",
       "      <td>-2.610958e+08</td>\n",
       "      <td>4.161020e+09</td>\n",
       "    </tr>\n",
       "    <tr>\n",
       "      <th>1</th>\n",
       "      <td>1.0</td>\n",
       "      <td>-29.152979</td>\n",
       "      <td>849.896197</td>\n",
       "      <td>-24777.006175</td>\n",
       "      <td>7.223235e+05</td>\n",
       "      <td>-2.105788e+07</td>\n",
       "      <td>6.139000e+08</td>\n",
       "      <td>-1.789701e+10</td>\n",
       "      <td>5.217513e+11</td>\n",
       "    </tr>\n",
       "    <tr>\n",
       "      <th>2</th>\n",
       "      <td>1.0</td>\n",
       "      <td>36.189549</td>\n",
       "      <td>1309.683430</td>\n",
       "      <td>47396.852168</td>\n",
       "      <td>1.715271e+06</td>\n",
       "      <td>6.207487e+07</td>\n",
       "      <td>2.246462e+09</td>\n",
       "      <td>8.129843e+10</td>\n",
       "      <td>2.942154e+12</td>\n",
       "    </tr>\n",
       "    <tr>\n",
       "      <th>3</th>\n",
       "      <td>1.0</td>\n",
       "      <td>37.492187</td>\n",
       "      <td>1405.664111</td>\n",
       "      <td>52701.422173</td>\n",
       "      <td>1.975892e+06</td>\n",
       "      <td>7.408050e+07</td>\n",
       "      <td>2.777440e+09</td>\n",
       "      <td>1.041323e+11</td>\n",
       "      <td>3.904148e+12</td>\n",
       "    </tr>\n",
       "    <tr>\n",
       "      <th>4</th>\n",
       "      <td>1.0</td>\n",
       "      <td>-48.058829</td>\n",
       "      <td>2309.651088</td>\n",
       "      <td>-110999.127750</td>\n",
       "      <td>5.334488e+06</td>\n",
       "      <td>-2.563693e+08</td>\n",
       "      <td>1.232081e+10</td>\n",
       "      <td>-5.921235e+11</td>\n",
       "      <td>2.845676e+13</td>\n",
       "    </tr>\n",
       "    <tr>\n",
       "      <th>5</th>\n",
       "      <td>1.0</td>\n",
       "      <td>-8.941458</td>\n",
       "      <td>79.949670</td>\n",
       "      <td>-714.866612</td>\n",
       "      <td>6.391950e+03</td>\n",
       "      <td>-5.715335e+04</td>\n",
       "      <td>5.110343e+05</td>\n",
       "      <td>-4.569391e+06</td>\n",
       "      <td>4.085702e+07</td>\n",
       "    </tr>\n",
       "    <tr>\n",
       "      <th>6</th>\n",
       "      <td>1.0</td>\n",
       "      <td>15.307793</td>\n",
       "      <td>234.328523</td>\n",
       "      <td>3587.052500</td>\n",
       "      <td>5.490986e+04</td>\n",
       "      <td>8.405487e+05</td>\n",
       "      <td>1.286695e+07</td>\n",
       "      <td>1.969645e+08</td>\n",
       "      <td>3.015092e+09</td>\n",
       "    </tr>\n",
       "    <tr>\n",
       "      <th>7</th>\n",
       "      <td>1.0</td>\n",
       "      <td>-34.706266</td>\n",
       "      <td>1204.524887</td>\n",
       "      <td>-41804.560890</td>\n",
       "      <td>1.450880e+06</td>\n",
       "      <td>-5.035463e+07</td>\n",
       "      <td>1.747621e+09</td>\n",
       "      <td>-6.065341e+10</td>\n",
       "      <td>2.105053e+12</td>\n",
       "    </tr>\n",
       "    <tr>\n",
       "      <th>8</th>\n",
       "      <td>1.0</td>\n",
       "      <td>1.389154</td>\n",
       "      <td>1.929750</td>\n",
       "      <td>2.680720</td>\n",
       "      <td>3.723935e+00</td>\n",
       "      <td>5.173120e+00</td>\n",
       "      <td>7.186262e+00</td>\n",
       "      <td>9.982827e+00</td>\n",
       "      <td>1.386769e+01</td>\n",
       "    </tr>\n",
       "    <tr>\n",
       "      <th>9</th>\n",
       "      <td>1.0</td>\n",
       "      <td>-44.383760</td>\n",
       "      <td>1969.918139</td>\n",
       "      <td>-87432.373590</td>\n",
       "      <td>3.880577e+06</td>\n",
       "      <td>-1.722346e+08</td>\n",
       "      <td>7.644420e+09</td>\n",
       "      <td>-3.392881e+11</td>\n",
       "      <td>1.505888e+13</td>\n",
       "    </tr>\n",
       "    <tr>\n",
       "      <th>10</th>\n",
       "      <td>1.0</td>\n",
       "      <td>7.013502</td>\n",
       "      <td>49.189211</td>\n",
       "      <td>344.988637</td>\n",
       "      <td>2.419579e+03</td>\n",
       "      <td>1.696972e+04</td>\n",
       "      <td>1.190172e+05</td>\n",
       "      <td>8.347271e+05</td>\n",
       "      <td>5.854360e+06</td>\n",
       "    </tr>\n",
       "    <tr>\n",
       "      <th>11</th>\n",
       "      <td>1.0</td>\n",
       "      <td>22.762749</td>\n",
       "      <td>518.142738</td>\n",
       "      <td>11794.353058</td>\n",
       "      <td>2.684719e+05</td>\n",
       "      <td>6.111158e+06</td>\n",
       "      <td>1.391068e+08</td>\n",
       "      <td>3.166452e+09</td>\n",
       "      <td>7.207716e+10</td>\n",
       "    </tr>\n",
       "  </tbody>\n",
       "</table>\n",
       "</div>"
      ],
      "text/plain": [
       "      0          1            2              3             4             5  \\\n",
       "0   1.0 -15.936758   253.980260   -4047.621971  6.450597e+04 -1.028016e+06   \n",
       "1   1.0 -29.152979   849.896197  -24777.006175  7.223235e+05 -2.105788e+07   \n",
       "2   1.0  36.189549  1309.683430   47396.852168  1.715271e+06  6.207487e+07   \n",
       "3   1.0  37.492187  1405.664111   52701.422173  1.975892e+06  7.408050e+07   \n",
       "4   1.0 -48.058829  2309.651088 -110999.127750  5.334488e+06 -2.563693e+08   \n",
       "5   1.0  -8.941458    79.949670    -714.866612  6.391950e+03 -5.715335e+04   \n",
       "6   1.0  15.307793   234.328523    3587.052500  5.490986e+04  8.405487e+05   \n",
       "7   1.0 -34.706266  1204.524887  -41804.560890  1.450880e+06 -5.035463e+07   \n",
       "8   1.0   1.389154     1.929750       2.680720  3.723935e+00  5.173120e+00   \n",
       "9   1.0 -44.383760  1969.918139  -87432.373590  3.880577e+06 -1.722346e+08   \n",
       "10  1.0   7.013502    49.189211     344.988637  2.419579e+03  1.696972e+04   \n",
       "11  1.0  22.762749   518.142738   11794.353058  2.684719e+05  6.111158e+06   \n",
       "\n",
       "               6             7             8  \n",
       "0   1.638324e+07 -2.610958e+08  4.161020e+09  \n",
       "1   6.139000e+08 -1.789701e+10  5.217513e+11  \n",
       "2   2.246462e+09  8.129843e+10  2.942154e+12  \n",
       "3   2.777440e+09  1.041323e+11  3.904148e+12  \n",
       "4   1.232081e+10 -5.921235e+11  2.845676e+13  \n",
       "5   5.110343e+05 -4.569391e+06  4.085702e+07  \n",
       "6   1.286695e+07  1.969645e+08  3.015092e+09  \n",
       "7   1.747621e+09 -6.065341e+10  2.105053e+12  \n",
       "8   7.186262e+00  9.982827e+00  1.386769e+01  \n",
       "9   7.644420e+09 -3.392881e+11  1.505888e+13  \n",
       "10  1.190172e+05  8.347271e+05  5.854360e+06  \n",
       "11  1.391068e+08  3.166452e+09  7.207716e+10  "
      ]
     },
     "execution_count": 27,
     "metadata": {},
     "output_type": "execute_result"
    }
   ],
   "source": [
    "tmp=poly_features(X,8)\n",
    "pd.DataFrame(tmp)"
   ]
  },
  {
   "cell_type": "code",
   "execution_count": 28,
   "metadata": {},
   "outputs": [],
   "source": [
    "X_poly = poly_features(X,8)"
   ]
  },
  {
   "cell_type": "markdown",
   "metadata": {},
   "source": [
    "# normalization  标准化"
   ]
  },
  {
   "cell_type": "code",
   "execution_count": 29,
   "metadata": {},
   "outputs": [],
   "source": [
    "from sklearn.preprocessing import StandardScaler"
   ]
  },
  {
   "cell_type": "code",
   "execution_count": 30,
   "metadata": {},
   "outputs": [],
   "source": [
    "def normalize_feature(x):\n",
    "    scaler = StandardScaler() #实例化\n",
    "    scaler.fit(x)\n",
    "    #scaler.mean_\n",
    "    tmp = scaler.transform(x)\n",
    "    tmp[:,0] = 1\n",
    "    return tmp \n",
    "    "
   ]
  },
  {
   "cell_type": "code",
   "execution_count": 31,
   "metadata": {
    "scrolled": true
   },
   "outputs": [
    {
     "data": {
      "text/html": [
       "<div>\n",
       "<style scoped>\n",
       "    .dataframe tbody tr th:only-of-type {\n",
       "        vertical-align: middle;\n",
       "    }\n",
       "\n",
       "    .dataframe tbody tr th {\n",
       "        vertical-align: top;\n",
       "    }\n",
       "\n",
       "    .dataframe thead th {\n",
       "        text-align: right;\n",
       "    }\n",
       "</style>\n",
       "<table border=\"1\" class=\"dataframe\">\n",
       "  <thead>\n",
       "    <tr style=\"text-align: right;\">\n",
       "      <th></th>\n",
       "      <th>0</th>\n",
       "      <th>1</th>\n",
       "      <th>2</th>\n",
       "      <th>3</th>\n",
       "      <th>4</th>\n",
       "      <th>5</th>\n",
       "      <th>6</th>\n",
       "      <th>7</th>\n",
       "      <th>8</th>\n",
       "    </tr>\n",
       "  </thead>\n",
       "  <tbody>\n",
       "    <tr>\n",
       "      <th>0</th>\n",
       "      <td>1.0</td>\n",
       "      <td>-0.424161</td>\n",
       "      <td>-0.753116</td>\n",
       "      <td>0.127536</td>\n",
       "      <td>-0.736940</td>\n",
       "      <td>0.245527</td>\n",
       "      <td>-0.634134</td>\n",
       "      <td>0.266987</td>\n",
       "      <td>-0.553105</td>\n",
       "    </tr>\n",
       "    <tr>\n",
       "      <th>1</th>\n",
       "      <td>1.0</td>\n",
       "      <td>-0.350790</td>\n",
       "      <td>-0.836831</td>\n",
       "      <td>0.158743</td>\n",
       "      <td>-0.754889</td>\n",
       "      <td>0.251765</td>\n",
       "      <td>-0.637030</td>\n",
       "      <td>0.267970</td>\n",
       "      <td>-0.553515</td>\n",
       "    </tr>\n",
       "    <tr>\n",
       "      <th>2</th>\n",
       "      <td>1.0</td>\n",
       "      <td>1.309835</td>\n",
       "      <td>0.369222</td>\n",
       "      <td>1.021857</td>\n",
       "      <td>-0.018489</td>\n",
       "      <td>0.721820</td>\n",
       "      <td>-0.246305</td>\n",
       "      <td>0.518457</td>\n",
       "      <td>-0.354379</td>\n",
       "    </tr>\n",
       "    <tr>\n",
       "      <th>3</th>\n",
       "      <td>1.0</td>\n",
       "      <td>-1.447853</td>\n",
       "      <td>1.624282</td>\n",
       "      <td>-1.808682</td>\n",
       "      <td>1.838194</td>\n",
       "      <td>-1.915802</td>\n",
       "      <td>1.869067</td>\n",
       "      <td>-1.903938</td>\n",
       "      <td>1.806646</td>\n",
       "    </tr>\n",
       "    <tr>\n",
       "      <th>4</th>\n",
       "      <td>1.0</td>\n",
       "      <td>1.393025</td>\n",
       "      <td>0.585857</td>\n",
       "      <td>1.205946</td>\n",
       "      <td>0.222582</td>\n",
       "      <td>0.912351</td>\n",
       "      <td>-0.045384</td>\n",
       "      <td>0.673137</td>\n",
       "      <td>-0.207994</td>\n",
       "    </tr>\n",
       "    <tr>\n",
       "      <th>5</th>\n",
       "      <td>1.0</td>\n",
       "      <td>-1.233939</td>\n",
       "      <td>0.940957</td>\n",
       "      <td>-1.095441</td>\n",
       "      <td>0.689403</td>\n",
       "      <td>-0.797593</td>\n",
       "      <td>0.414921</td>\n",
       "      <td>-0.521651</td>\n",
       "      <td>0.189337</td>\n",
       "    </tr>\n",
       "    <tr>\n",
       "      <th>6</th>\n",
       "      <td>1.0</td>\n",
       "      <td>-0.008963</td>\n",
       "      <td>-1.074021</td>\n",
       "      <td>0.217464</td>\n",
       "      <td>-0.778875</td>\n",
       "      <td>0.257980</td>\n",
       "      <td>-0.639258</td>\n",
       "      <td>0.268569</td>\n",
       "      <td>-0.553717</td>\n",
       "    </tr>\n",
       "    <tr>\n",
       "      <th>7</th>\n",
       "      <td>1.0</td>\n",
       "      <td>1.039832</td>\n",
       "      <td>-0.231201</td>\n",
       "      <td>0.583848</td>\n",
       "      <td>-0.513461</td>\n",
       "      <td>0.382520</td>\n",
       "      <td>-0.558161</td>\n",
       "      <td>0.308215</td>\n",
       "      <td>-0.529405</td>\n",
       "    </tr>\n",
       "    <tr>\n",
       "      <th>8</th>\n",
       "      <td>1.0</td>\n",
       "      <td>-1.305365</td>\n",
       "      <td>1.158160</td>\n",
       "      <td>-1.310936</td>\n",
       "      <td>1.018821</td>\n",
       "      <td>-1.101461</td>\n",
       "      <td>0.788844</td>\n",
       "      <td>-0.857503</td>\n",
       "      <td>0.560099</td>\n",
       "    </tr>\n",
       "    <tr>\n",
       "      <th>9</th>\n",
       "      <td>1.0</td>\n",
       "      <td>1.000609</td>\n",
       "      <td>-0.305361</td>\n",
       "      <td>0.538102</td>\n",
       "      <td>-0.556937</td>\n",
       "      <td>0.357588</td>\n",
       "      <td>-0.577233</td>\n",
       "      <td>0.297566</td>\n",
       "      <td>-0.536712</td>\n",
       "    </tr>\n",
       "    <tr>\n",
       "      <th>10</th>\n",
       "      <td>1.0</td>\n",
       "      <td>-0.910003</td>\n",
       "      <td>0.093799</td>\n",
       "      <td>-0.368487</td>\n",
       "      <td>-0.277137</td>\n",
       "      <td>-0.017891</td>\n",
       "      <td>-0.428591</td>\n",
       "      <td>0.147820</td>\n",
       "      <td>-0.466901</td>\n",
       "    </tr>\n",
       "    <tr>\n",
       "      <th>11</th>\n",
       "      <td>1.0</td>\n",
       "      <td>1.066153</td>\n",
       "      <td>-0.179576</td>\n",
       "      <td>0.616879</td>\n",
       "      <td>-0.480904</td>\n",
       "      <td>0.401882</td>\n",
       "      <td>-0.542802</td>\n",
       "      <td>0.317106</td>\n",
       "      <td>-0.523080</td>\n",
       "    </tr>\n",
       "    <tr>\n",
       "      <th>12</th>\n",
       "      <td>1.0</td>\n",
       "      <td>0.031903</td>\n",
       "      <td>-1.085537</td>\n",
       "      <td>0.218531</td>\n",
       "      <td>-0.779028</td>\n",
       "      <td>0.257994</td>\n",
       "      <td>-0.639260</td>\n",
       "      <td>0.268569</td>\n",
       "      <td>-0.553717</td>\n",
       "    </tr>\n",
       "    <tr>\n",
       "      <th>13</th>\n",
       "      <td>1.0</td>\n",
       "      <td>0.080802</td>\n",
       "      <td>-1.094589</td>\n",
       "      <td>0.219093</td>\n",
       "      <td>-0.779083</td>\n",
       "      <td>0.257997</td>\n",
       "      <td>-0.639260</td>\n",
       "      <td>0.268569</td>\n",
       "      <td>-0.553717</td>\n",
       "    </tr>\n",
       "    <tr>\n",
       "      <th>14</th>\n",
       "      <td>1.0</td>\n",
       "      <td>-1.235074</td>\n",
       "      <td>0.944323</td>\n",
       "      <td>-1.098696</td>\n",
       "      <td>0.694253</td>\n",
       "      <td>-0.801953</td>\n",
       "      <td>0.420148</td>\n",
       "      <td>-0.526223</td>\n",
       "      <td>0.194254</td>\n",
       "    </tr>\n",
       "    <tr>\n",
       "      <th>15</th>\n",
       "      <td>1.0</td>\n",
       "      <td>-1.549438</td>\n",
       "      <td>1.983297</td>\n",
       "      <td>-2.222685</td>\n",
       "      <td>2.573860</td>\n",
       "      <td>-2.704717</td>\n",
       "      <td>2.997784</td>\n",
       "      <td>-3.082780</td>\n",
       "      <td>3.320031</td>\n",
       "    </tr>\n",
       "    <tr>\n",
       "      <th>16</th>\n",
       "      <td>1.0</td>\n",
       "      <td>-0.446663</td>\n",
       "      <td>-0.725118</td>\n",
       "      <td>0.116171</td>\n",
       "      <td>-0.729833</td>\n",
       "      <td>0.242845</td>\n",
       "      <td>-0.632784</td>\n",
       "      <td>0.266491</td>\n",
       "      <td>-0.552881</td>\n",
       "    </tr>\n",
       "    <tr>\n",
       "      <th>17</th>\n",
       "      <td>1.0</td>\n",
       "      <td>0.263681</td>\n",
       "      <td>-1.082799</td>\n",
       "      <td>0.220112</td>\n",
       "      <td>-0.779000</td>\n",
       "      <td>0.258003</td>\n",
       "      <td>-0.639260</td>\n",
       "      <td>0.268569</td>\n",
       "      <td>-0.553717</td>\n",
       "    </tr>\n",
       "    <tr>\n",
       "      <th>18</th>\n",
       "      <td>1.0</td>\n",
       "      <td>0.381980</td>\n",
       "      <td>-1.036804</td>\n",
       "      <td>0.226154</td>\n",
       "      <td>-0.777738</td>\n",
       "      <td>0.258166</td>\n",
       "      <td>-0.639231</td>\n",
       "      <td>0.268573</td>\n",
       "      <td>-0.553716</td>\n",
       "    </tr>\n",
       "    <tr>\n",
       "      <th>19</th>\n",
       "      <td>1.0</td>\n",
       "      <td>1.707851</td>\n",
       "      <td>1.540633</td>\n",
       "      <td>2.154378</td>\n",
       "      <td>1.679858</td>\n",
       "      <td>2.268676</td>\n",
       "      <td>1.644928</td>\n",
       "      <td>2.216320</td>\n",
       "      <td>1.529698</td>\n",
       "    </tr>\n",
       "    <tr>\n",
       "      <th>20</th>\n",
       "      <td>1.0</td>\n",
       "      <td>0.636581</td>\n",
       "      <td>-0.835579</td>\n",
       "      <td>0.280111</td>\n",
       "      <td>-0.754657</td>\n",
       "      <td>0.264305</td>\n",
       "      <td>-0.636998</td>\n",
       "      <td>0.269178</td>\n",
       "      <td>-0.553511</td>\n",
       "    </tr>\n",
       "  </tbody>\n",
       "</table>\n",
       "</div>"
      ],
      "text/plain": [
       "      0         1         2         3         4         5         6         7  \\\n",
       "0   1.0 -0.424161 -0.753116  0.127536 -0.736940  0.245527 -0.634134  0.266987   \n",
       "1   1.0 -0.350790 -0.836831  0.158743 -0.754889  0.251765 -0.637030  0.267970   \n",
       "2   1.0  1.309835  0.369222  1.021857 -0.018489  0.721820 -0.246305  0.518457   \n",
       "3   1.0 -1.447853  1.624282 -1.808682  1.838194 -1.915802  1.869067 -1.903938   \n",
       "4   1.0  1.393025  0.585857  1.205946  0.222582  0.912351 -0.045384  0.673137   \n",
       "5   1.0 -1.233939  0.940957 -1.095441  0.689403 -0.797593  0.414921 -0.521651   \n",
       "6   1.0 -0.008963 -1.074021  0.217464 -0.778875  0.257980 -0.639258  0.268569   \n",
       "7   1.0  1.039832 -0.231201  0.583848 -0.513461  0.382520 -0.558161  0.308215   \n",
       "8   1.0 -1.305365  1.158160 -1.310936  1.018821 -1.101461  0.788844 -0.857503   \n",
       "9   1.0  1.000609 -0.305361  0.538102 -0.556937  0.357588 -0.577233  0.297566   \n",
       "10  1.0 -0.910003  0.093799 -0.368487 -0.277137 -0.017891 -0.428591  0.147820   \n",
       "11  1.0  1.066153 -0.179576  0.616879 -0.480904  0.401882 -0.542802  0.317106   \n",
       "12  1.0  0.031903 -1.085537  0.218531 -0.779028  0.257994 -0.639260  0.268569   \n",
       "13  1.0  0.080802 -1.094589  0.219093 -0.779083  0.257997 -0.639260  0.268569   \n",
       "14  1.0 -1.235074  0.944323 -1.098696  0.694253 -0.801953  0.420148 -0.526223   \n",
       "15  1.0 -1.549438  1.983297 -2.222685  2.573860 -2.704717  2.997784 -3.082780   \n",
       "16  1.0 -0.446663 -0.725118  0.116171 -0.729833  0.242845 -0.632784  0.266491   \n",
       "17  1.0  0.263681 -1.082799  0.220112 -0.779000  0.258003 -0.639260  0.268569   \n",
       "18  1.0  0.381980 -1.036804  0.226154 -0.777738  0.258166 -0.639231  0.268573   \n",
       "19  1.0  1.707851  1.540633  2.154378  1.679858  2.268676  1.644928  2.216320   \n",
       "20  1.0  0.636581 -0.835579  0.280111 -0.754657  0.264305 -0.636998  0.269178   \n",
       "\n",
       "           8  \n",
       "0  -0.553105  \n",
       "1  -0.553515  \n",
       "2  -0.354379  \n",
       "3   1.806646  \n",
       "4  -0.207994  \n",
       "5   0.189337  \n",
       "6  -0.553717  \n",
       "7  -0.529405  \n",
       "8   0.560099  \n",
       "9  -0.536712  \n",
       "10 -0.466901  \n",
       "11 -0.523080  \n",
       "12 -0.553717  \n",
       "13 -0.553717  \n",
       "14  0.194254  \n",
       "15  3.320031  \n",
       "16 -0.552881  \n",
       "17 -0.553717  \n",
       "18 -0.553716  \n",
       "19  1.529698  \n",
       "20 -0.553511  "
      ]
     },
     "execution_count": 31,
     "metadata": {},
     "output_type": "execute_result"
    }
   ],
   "source": [
    "X_poly_scaled = normalize_feature(X_poly)\n",
    "Xval_ploy = poly_features(Xval,8)\n",
    "Xval_poly_scaled = normalize_feature(Xval_ploy)\n",
    "pd.DataFrame(Xval_poly_scaled)"
   ]
  },
  {
   "cell_type": "code",
   "execution_count": 32,
   "metadata": {},
   "outputs": [
    {
     "data": {
      "text/plain": [
       "array([11.21759115,  8.36723487,  5.10200369,  3.3901556 ,  2.15881336,\n",
       "        1.62043582,  0.97248416,  1.02573945,  0.32265136])"
      ]
     },
     "execution_count": 32,
     "metadata": {},
     "output_type": "execute_result"
    }
   ],
   "source": [
    "tmp = linear_regression_np(X_poly_scaled,y).x\n",
    "tmp"
   ]
  },
  {
   "cell_type": "code",
   "execution_count": 33,
   "metadata": {},
   "outputs": [
    {
     "data": {
      "text/plain": [
       "<matplotlib.collections.PathCollection at 0x16d0838b940>"
      ]
     },
     "execution_count": 33,
     "metadata": {},
     "output_type": "execute_result"
    },
    {
     "data": {
      "image/png": "[encoded data removed]",
      "text/plain": [
       "<Figure size 432x288 with 1 Axes>"
      ]
     },
     "metadata": {
      "needs_background": "light"
     },
     "output_type": "display_data"
    }
   ],
   "source": [
    "plt.scatter(X[:,1],X_poly_scaled.dot(tmp.T))"
   ]
  },
  {
   "cell_type": "code",
   "execution_count": 46,
   "metadata": {},
   "outputs": [
    {
     "data": {
      "text/plain": [
       "[<matplotlib.lines.Line2D at 0x16d08666c88>]"
      ]
     },
     "execution_count": 46,
     "metadata": {},
     "output_type": "execute_result"
    },
    {
     "data": {
      "image/png": "[encoded data removed]",
      "text/plain": [
       "<Figure size 432x288 with 1 Axes>"
      ]
     },
     "metadata": {
      "needs_background": "light"
     },
     "output_type": "display_data"
    }
   ],
   "source": [
    "Jtrain,Jcost = get_Jcost(X_poly_scaled,y,Xval_poly_scaled,yval,l=0)# lambda =0 \n",
    "fig,ax=plt.subplots()\n",
    "ax.plot(range(len(Jtrain)),Jtrain)\n",
    "ax.plot(range(len(Jcost)),Jcost)"
   ]
  },
  {
   "cell_type": "code",
   "execution_count": 35,
   "metadata": {},
   "outputs": [],
   "source": [
    "def plot_learning_curve(X, y, Xval, yval, l=0): #别人的方法\n",
    "    training_cost, cv_cost = [], []\n",
    "    m = X.shape[0]\n",
    "\n",
    "    for i in range(1, m + 1):\n",
    "        # regularization applies here for fitting parameters\n",
    "        res = linear_regression_np(X[:i, :], y[:i], l=l)\n",
    "\n",
    "        # remember, when you compute the cost here, you are computing\n",
    "        # non-regularized cost. Regularization is used to fit parameters only\n",
    "        tc = cost(res.x, X[:i, :], y[:i])\n",
    "        cv = cost(res.x, Xval, yval)\n",
    "\n",
    "        training_cost.append(tc)\n",
    "        cv_cost.append(cv)\n",
    "\n",
    "    plt.plot(np.arange(1, m + 1), training_cost, label='training cost')\n",
    "    plt.plot(np.arange(1, m + 1), cv_cost, label='cv cost')\n",
    "    plt.legend(loc=1)\n"
   ]
  },
  {
   "cell_type": "code",
   "execution_count": 37,
   "metadata": {},
   "outputs": [
    {
     "data": {
      "image/png": "[encoded data removed]",
      "text/plain": [
       "<Figure size 432x288 with 1 Axes>"
      ]
     },
     "metadata": {
      "needs_background": "light"
     },
     "output_type": "display_data"
    }
   ],
   "source": [
    "plot_learning_curve(X_poly_scaled,y,Xval_poly_scaled,yval)"
   ]
  },
  {
   "cell_type": "code",
   "execution_count": 55,
   "metadata": {},
   "outputs": [
    {
     "data": {
      "text/plain": [
       "<matplotlib.legend.Legend at 0x16d09990e10>"
      ]
     },
     "execution_count": 55,
     "metadata": {},
     "output_type": "execute_result"
    },
    {
     "data": {
      "image/png": "[encoded data removed]",
      "text/plain": [
       "<Figure size 432x288 with 1 Axes>"
      ]
     },
     "metadata": {
      "needs_background": "light"
     },
     "output_type": "display_data"
    }
   ],
   "source": [
    "Jtrain,Jcost = get_Jcost(X_poly_scaled,y,Xval_poly_scaled,yval,l=100) # lambda =100\n",
    "fig,ax=plt.subplots()\n",
    "ax.plot(range(len(Jtrain)),Jtrain,label='train')\n",
    "ax.plot(range(len(Jcost)),Jcost,label='cross V')\n",
    "ax.legend()"
   ]
  },
  {
   "cell_type": "code",
   "execution_count": 51,
   "metadata": {},
   "outputs": [
    {
     "data": {
      "text/plain": [
       "<matplotlib.legend.Legend at 0x16d0844add8>"
      ]
     },
     "execution_count": 51,
     "metadata": {},
     "output_type": "execute_result"
    },
    {
     "data": {
      "image/png": "[encoded data removed]",
      "text/plain": [
       "<Figure size 432x288 with 1 Axes>"
      ]
     },
     "metadata": {
      "needs_background": "light"
     },
     "output_type": "display_data"
    }
   ],
   "source": [
    "Jtrain,Jcost = get_Jcost(X_poly_scaled,y,Xval_poly_scaled,yval,l=1)# lambda =1\n",
    "fig,ax=plt.subplots()\n",
    "ax.plot(range(len(Jtrain)),Jtrain,label='train')\n",
    "ax.plot(range(len(Jcost)),Jcost,label='corrs V')\n",
    "ax.legend()"
   ]
  },
  {
   "cell_type": "code",
   "execution_count": 71,
   "metadata": {
    "scrolled": true
   },
   "outputs": [
    {
     "data": {
      "image/png": "[encoded data removed]",
      "text/plain": [
       "<Figure size 1440x720 with 10 Axes>"
      ]
     },
     "metadata": {
      "needs_background": "light"
     },
     "output_type": "display_data"
    }
   ],
   "source": [
    "lambdaList = [[0,0.0001,0.003,0.3,1],[10,50,100,1000,10000]] #设计成2*5，只是为了下面画图时取数方便 #也可以使用np.reshape \n",
    "fig,axs = plt.subplots(2,5,figsize=(20,10))\n",
    "for i in range(len(lambdaList)):\n",
    "    for j in range(len(lambdaList[0])):\n",
    "        l = lambdaList[i][j]\n",
    "        Jtrain,Jcost = get_Jcost(X_poly_scaled,y,Xval_poly_scaled,yval,l=l)\n",
    "        axs[i,j].plot(range(len(Jtrain)),Jtrain,label='train')\n",
    "        axs[i,j].plot(range(len(Jcost)),Jcost,label='cross V')\n",
    "        axs[i,j].set_title(\"lambda = %s\" %lambdaList[i][j])\n",
    "        axs[i,j].set_xlabel('Number of training examples')\n",
    "        axs[i,j].set_ylabel('Error')\n",
    "        axs[i,j].legend()"
   ]
  },
  {
   "cell_type": "markdown",
   "metadata": {},
   "source": [
    "#  可以看到当lambda取 1 时 both train and 验证集的error都很小"
   ]
  }
 ],
 "metadata": {
  "kernelspec": {
   "display_name": "Python 3",
   "language": "python",
   "name": "python3"
  },
  "language_info": {
   "codemirror_mode": {
    "name": "ipython",
    "version": 3
   },
   "file_extension": ".py",
   "mimetype": "text/x-python",
   "name": "python",
   "nbconvert_exporter": "python",
   "pygments_lexer": "ipython3",
   "version": "3.7.3"
  }
 },
 "nbformat": 4,
 "nbformat_minor": 4
}
