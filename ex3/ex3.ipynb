{
 "cells": [
  {
   "cell_type": "code",
   "execution_count": 140,
   "metadata": {},
   "outputs": [],
   "source": [
    "import pandas as pd \n",
    "import numpy as np\n",
    "import matplotlib.pyplot as plt  \n",
    "%matplotlib inline \n",
    "from scipy.io import loadmat"
   ]
  },
  {
   "cell_type": "code",
   "execution_count": 157,
   "metadata": {},
   "outputs": [
    {
     "data": {
      "text/html": [
       "<div>\n",
       "<style scoped>\n",
       "    .dataframe tbody tr th:only-of-type {\n",
       "        vertical-align: middle;\n",
       "    }\n",
       "\n",
       "    .dataframe tbody tr th {\n",
       "        vertical-align: top;\n",
       "    }\n",
       "\n",
       "    .dataframe thead th {\n",
       "        text-align: right;\n",
       "    }\n",
       "</style>\n",
       "<table border=\"1\" class=\"dataframe\">\n",
       "  <thead>\n",
       "    <tr style=\"text-align: right;\">\n",
       "      <th></th>\n",
       "      <th>0</th>\n",
       "      <th>1</th>\n",
       "      <th>2</th>\n",
       "      <th>3</th>\n",
       "      <th>4</th>\n",
       "      <th>5</th>\n",
       "      <th>6</th>\n",
       "      <th>7</th>\n",
       "      <th>8</th>\n",
       "      <th>9</th>\n",
       "      <th>...</th>\n",
       "      <th>390</th>\n",
       "      <th>391</th>\n",
       "      <th>392</th>\n",
       "      <th>393</th>\n",
       "      <th>394</th>\n",
       "      <th>395</th>\n",
       "      <th>396</th>\n",
       "      <th>397</th>\n",
       "      <th>398</th>\n",
       "      <th>399</th>\n",
       "    </tr>\n",
       "  </thead>\n",
       "  <tbody>\n",
       "    <tr>\n",
       "      <th>0</th>\n",
       "      <td>0.0</td>\n",
       "      <td>0.0</td>\n",
       "      <td>0.0</td>\n",
       "      <td>0.0</td>\n",
       "      <td>0.0</td>\n",
       "      <td>0.0</td>\n",
       "      <td>0.0</td>\n",
       "      <td>0.0</td>\n",
       "      <td>0.0</td>\n",
       "      <td>0.0</td>\n",
       "      <td>...</td>\n",
       "      <td>0.0</td>\n",
       "      <td>0.0</td>\n",
       "      <td>0.0</td>\n",
       "      <td>0.0</td>\n",
       "      <td>0.0</td>\n",
       "      <td>0.0</td>\n",
       "      <td>0.0</td>\n",
       "      <td>0.0</td>\n",
       "      <td>0.0</td>\n",
       "      <td>0.0</td>\n",
       "    </tr>\n",
       "    <tr>\n",
       "      <th>1</th>\n",
       "      <td>0.0</td>\n",
       "      <td>0.0</td>\n",
       "      <td>0.0</td>\n",
       "      <td>0.0</td>\n",
       "      <td>0.0</td>\n",
       "      <td>0.0</td>\n",
       "      <td>0.0</td>\n",
       "      <td>0.0</td>\n",
       "      <td>0.0</td>\n",
       "      <td>0.0</td>\n",
       "      <td>...</td>\n",
       "      <td>0.0</td>\n",
       "      <td>0.0</td>\n",
       "      <td>0.0</td>\n",
       "      <td>0.0</td>\n",
       "      <td>0.0</td>\n",
       "      <td>0.0</td>\n",
       "      <td>0.0</td>\n",
       "      <td>0.0</td>\n",
       "      <td>0.0</td>\n",
       "      <td>0.0</td>\n",
       "    </tr>\n",
       "    <tr>\n",
       "      <th>2</th>\n",
       "      <td>0.0</td>\n",
       "      <td>0.0</td>\n",
       "      <td>0.0</td>\n",
       "      <td>0.0</td>\n",
       "      <td>0.0</td>\n",
       "      <td>0.0</td>\n",
       "      <td>0.0</td>\n",
       "      <td>0.0</td>\n",
       "      <td>0.0</td>\n",
       "      <td>0.0</td>\n",
       "      <td>...</td>\n",
       "      <td>0.0</td>\n",
       "      <td>0.0</td>\n",
       "      <td>0.0</td>\n",
       "      <td>0.0</td>\n",
       "      <td>0.0</td>\n",
       "      <td>0.0</td>\n",
       "      <td>0.0</td>\n",
       "      <td>0.0</td>\n",
       "      <td>0.0</td>\n",
       "      <td>0.0</td>\n",
       "    </tr>\n",
       "    <tr>\n",
       "      <th>3</th>\n",
       "      <td>0.0</td>\n",
       "      <td>0.0</td>\n",
       "      <td>0.0</td>\n",
       "      <td>0.0</td>\n",
       "      <td>0.0</td>\n",
       "      <td>0.0</td>\n",
       "      <td>0.0</td>\n",
       "      <td>0.0</td>\n",
       "      <td>0.0</td>\n",
       "      <td>0.0</td>\n",
       "      <td>...</td>\n",
       "      <td>0.0</td>\n",
       "      <td>0.0</td>\n",
       "      <td>0.0</td>\n",
       "      <td>0.0</td>\n",
       "      <td>0.0</td>\n",
       "      <td>0.0</td>\n",
       "      <td>0.0</td>\n",
       "      <td>0.0</td>\n",
       "      <td>0.0</td>\n",
       "      <td>0.0</td>\n",
       "    </tr>\n",
       "    <tr>\n",
       "      <th>4</th>\n",
       "      <td>0.0</td>\n",
       "      <td>0.0</td>\n",
       "      <td>0.0</td>\n",
       "      <td>0.0</td>\n",
       "      <td>0.0</td>\n",
       "      <td>0.0</td>\n",
       "      <td>0.0</td>\n",
       "      <td>0.0</td>\n",
       "      <td>0.0</td>\n",
       "      <td>0.0</td>\n",
       "      <td>...</td>\n",
       "      <td>0.0</td>\n",
       "      <td>0.0</td>\n",
       "      <td>0.0</td>\n",
       "      <td>0.0</td>\n",
       "      <td>0.0</td>\n",
       "      <td>0.0</td>\n",
       "      <td>0.0</td>\n",
       "      <td>0.0</td>\n",
       "      <td>0.0</td>\n",
       "      <td>0.0</td>\n",
       "    </tr>\n",
       "  </tbody>\n",
       "</table>\n",
       "<p>5 rows × 400 columns</p>\n",
       "</div>"
      ],
      "text/plain": [
       "   0    1    2    3    4    5    6    7    8    9    ...  390  391  392  393  \\\n",
       "0  0.0  0.0  0.0  0.0  0.0  0.0  0.0  0.0  0.0  0.0  ...  0.0  0.0  0.0  0.0   \n",
       "1  0.0  0.0  0.0  0.0  0.0  0.0  0.0  0.0  0.0  0.0  ...  0.0  0.0  0.0  0.0   \n",
       "2  0.0  0.0  0.0  0.0  0.0  0.0  0.0  0.0  0.0  0.0  ...  0.0  0.0  0.0  0.0   \n",
       "3  0.0  0.0  0.0  0.0  0.0  0.0  0.0  0.0  0.0  0.0  ...  0.0  0.0  0.0  0.0   \n",
       "4  0.0  0.0  0.0  0.0  0.0  0.0  0.0  0.0  0.0  0.0  ...  0.0  0.0  0.0  0.0   \n",
       "\n",
       "   394  395  396  397  398  399  \n",
       "0  0.0  0.0  0.0  0.0  0.0  0.0  \n",
       "1  0.0  0.0  0.0  0.0  0.0  0.0  \n",
       "2  0.0  0.0  0.0  0.0  0.0  0.0  \n",
       "3  0.0  0.0  0.0  0.0  0.0  0.0  \n",
       "4  0.0  0.0  0.0  0.0  0.0  0.0  \n",
       "\n",
       "[5 rows x 400 columns]"
      ]
     },
     "execution_count": 157,
     "metadata": {},
     "output_type": "execute_result"
    }
   ],
   "source": [
    "#读取数据\n",
    "y=pd.DataFrame(loadmat('ex3data1.mat')['y'])\n",
    "X=pd.DataFrame(loadmat('ex3data1.mat')['X'])   \n",
    "X.head()"
   ]
  },
  {
   "cell_type": "code",
   "execution_count": 64,
   "metadata": {},
   "outputs": [
    {
     "data": {
      "text/plain": [
       "(20, 20)"
      ]
     },
     "execution_count": 64,
     "metadata": {},
     "output_type": "execute_result"
    }
   ],
   "source": [
    "#可视化\n",
    "test=X.iloc[0,:].values.reshape(20,20)\n",
    "test.shape"
   ]
  },
  {
   "cell_type": "code",
   "execution_count": 71,
   "metadata": {},
   "outputs": [
    {
     "data": {
      "image/png": "[encoded data removed]",
      "text/plain": [
       "<Figure size 432x288 with 1 Axes>"
      ]
     },
     "metadata": {
      "needs_background": "light"
     },
     "output_type": "display_data"
    }
   ],
   "source": [
    "plt.imshow(test,cmap='gray')"
   ]
  },
  {
   "cell_type": "code",
   "execution_count": 61,
   "metadata": {},
   "outputs": [],
   "source": [
    "data=[]\n",
    "for i in range(500,510):\n",
    "    tmp = X.iloc[i,:].values.reshape(20,20)\n",
    "    data.append(tmp)\n",
    "test=np.vstack(data)\n"
   ]
  },
  {
   "cell_type": "code",
   "execution_count": 62,
   "metadata": {},
   "outputs": [
    {
     "data": {
      "text/plain": [
       "<matplotlib.image.AxesImage at 0x272a7e850f0>"
      ]
     },
     "execution_count": 62,
     "metadata": {},
     "output_type": "execute_result"
    },
    {
     "data": {
      "image/png": "[encoded data removed]",
      "text/plain": [
       "<Figure size 432x288 with 1 Axes>"
      ]
     },
     "metadata": {
      "needs_background": "light"
     },
     "output_type": "display_data"
    }
   ],
   "source": [
    "plt.imshow(test)"
   ]
  },
  {
   "cell_type": "code",
   "execution_count": 291,
   "metadata": {},
   "outputs": [
    {
     "ename": "AttributeError",
     "evalue": "'numpy.ndarray' object has no attribute 'values'",
     "output_type": "error",
     "traceback": [
      "\u001b[1;31m---------------------------------------------------------------------------\u001b[0m",
      "\u001b[1;31mAttributeError\u001b[0m                            Traceback (most recent call last)",
      "\u001b[1;32m<ipython-input-291-fb70392cf45b>\u001b[0m in \u001b[0;36m<module>\u001b[1;34m\u001b[0m\n\u001b[1;32m----> 1\u001b[1;33m \u001b[0mX\u001b[0m\u001b[1;33m=\u001b[0m\u001b[0mX\u001b[0m\u001b[1;33m.\u001b[0m\u001b[0mvalues\u001b[0m\u001b[1;33m\u001b[0m\u001b[1;33m\u001b[0m\u001b[0m\n\u001b[0m\u001b[0;32m      2\u001b[0m \u001b[0my\u001b[0m\u001b[1;33m=\u001b[0m\u001b[0my\u001b[0m\u001b[1;33m.\u001b[0m\u001b[0mvalues\u001b[0m\u001b[1;33m.\u001b[0m\u001b[0mravel\u001b[0m\u001b[1;33m(\u001b[0m\u001b[1;33m)\u001b[0m\u001b[1;33m\u001b[0m\u001b[1;33m\u001b[0m\u001b[0m\n",
      "\u001b[1;31mAttributeError\u001b[0m: 'numpy.ndarray' object has no attribute 'values'"
     ]
    }
   ],
   "source": [
    "X=X.values\n",
    "y=y.values"
   ]
  },
  {
   "cell_type": "code",
   "execution_count": 160,
   "metadata": {},
   "outputs": [],
   "source": [
    "theta= np.zeros(X.shape[1])"
   ]
  },
  {
   "cell_type": "code",
   "execution_count": 228,
   "metadata": {},
   "outputs": [],
   "source": [
    "#正则化后的损失函数\n",
    "def r_cost(theta, X, y, l=1):\n",
    "    m=X.shape[0]\n",
    "    cost = np.mean(-y * np.log(sigmoid(X.dot(theta))) - (1 - y) * np.log(1 - sigmoid(X.dot(theta)))) \n",
    "    reg = (l/ 2*m) * np.sum(theta[1:]**2)\n",
    "    return cost + reg"
   ]
  },
  {
   "cell_type": "code",
   "execution_count": 229,
   "metadata": {},
   "outputs": [
    {
     "data": {
      "text/plain": [
       "-17.051420641776012"
      ]
     },
     "execution_count": 229,
     "metadata": {},
     "output_type": "execute_result"
    }
   ],
   "source": [
    "r_cost(theta,X,y,l=3)"
   ]
  },
  {
   "cell_type": "code",
   "execution_count": 298,
   "metadata": {},
   "outputs": [],
   "source": [
    "#正则化后的梯度\n",
    "def r_gradient(theta, X, y, l=3):\n",
    "    m=X.shape[0]\n",
    "    error = sigmoid(X.dot(theta)) - y.ravel() # np.ravel 将其变为一维arrary\n",
    "    reg = theta * (l/m)\n",
    "    return X.T.dot(error)/m +reg "
   ]
  },
  {
   "cell_type": "code",
   "execution_count": 307,
   "metadata": {},
   "outputs": [
    {
     "data": {
      "text/plain": [
       "(400,)"
      ]
     },
     "execution_count": 307,
     "metadata": {},
     "output_type": "execute_result"
    }
   ],
   "source": [
    "r_gradient(theta,X,y).shape"
   ]
  },
  {
   "cell_type": "code",
   "execution_count": 311,
   "metadata": {},
   "outputs": [],
   "source": [
    "def logistic_regression(X, y, l=1):\n",
    "    \"\"\"generalized logistic regression\n",
    "    args:\n",
    "        X: feature matrix, (m, n+1) # with incercept x0=1\n",
    "        y: target vector, (m, )\n",
    "        l: lambda constant for regularization\n",
    "\n",
    "    return: trained parameters\n",
    "    \"\"\"\n",
    "    # init theta\n",
    "    theta = np.zeros(X.shape[1])\n",
    "\n",
    "    # train it\n",
    "    res = opt.minimize(fun=r_cost,\n",
    "                       x0=theta,\n",
    "                       args=(X, y, l),\n",
    "                       method='TNC',\n",
    "                       jac=regularized_gradient,\n",
    "                       options={'disp': True})\n",
    "    # get trained parameters\n",
    "    final_theta = res.x\n",
    "\n",
    "    return final_theta"
   ]
  },
  {
   "cell_type": "code",
   "execution_count": 312,
   "metadata": {},
   "outputs": [
    {
     "data": {
      "text/plain": [
       "array([ 0.00000000e+00,  0.00000000e+00,  8.66526473e-10, -3.57870548e-08,\n",
       "       -2.12048762e-07,  7.90277250e-06,  1.00398518e-05,  4.17014311e-06,\n",
       "        1.23946540e-06,  1.53327702e-06,  4.60830260e-07, -3.46046573e-07,\n",
       "       -8.46100810e-07, -1.85830323e-06, -2.11403883e-06, -1.24876244e-06,\n",
       "       -3.85687821e-07, -2.59387859e-09,  4.09410797e-09,  0.00000000e+00,\n",
       "        3.03725684e-09, -3.00221889e-08, -1.51932875e-08, -5.71663361e-07,\n",
       "       -1.03985767e-06,  1.27001725e-05,  4.52691567e-05,  6.32798229e-05,\n",
       "        4.90303833e-05,  1.37538610e-05, -1.19040909e-05, -1.87646253e-05,\n",
       "       -2.04872914e-05, -1.58149670e-05, -1.12626748e-05, -6.96550688e-06,\n",
       "       -3.22732419e-06, -1.89409176e-06, -5.07173525e-07, -1.83790029e-07,\n",
       "       -2.60556529e-08,  2.92481189e-07, -6.79745559e-07,  3.00716005e-06,\n",
       "        2.45182875e-05,  1.24938161e-04,  2.70598142e-04,  3.50136700e-04,\n",
       "        2.63096291e-04,  1.17376854e-04,  5.12782552e-05,  2.46748950e-05,\n",
       "        8.11884304e-05,  2.21764949e-04,  2.77807737e-04,  1.50180441e-04,\n",
       "        4.12225220e-05,  9.30024367e-06, -1.34436474e-06,  1.05485521e-06,\n",
       "       -1.09842898e-07,  5.42362554e-07,  3.60488130e-06,  4.88998614e-05,\n",
       "        1.74617020e-04,  6.17277949e-04,  1.14400583e-03,  1.46507698e-03,\n",
       "        1.51710538e-03,  1.62207337e-03,  2.04867972e-03,  2.50475571e-03,\n",
       "        2.98186918e-03,  3.22445277e-03,  2.92539683e-03,  1.88478676e-03,\n",
       "        7.39490785e-04,  1.73276656e-04,  5.33192954e-05,  1.30160986e-05,\n",
       "       -1.33073324e-07, -1.15815425e-06,  1.77602127e-05,  1.55053010e-04,\n",
       "        5.94554035e-04,  1.67011148e-03,  3.18552820e-03,  4.34755439e-03,\n",
       "        5.27393130e-03,  6.49708233e-03,  7.79127864e-03,  8.46695643e-03,\n",
       "        8.61232295e-03,  8.88564086e-03,  8.72621591e-03,  6.61634587e-03,\n",
       "        3.17552520e-03,  8.60033565e-04,  3.08535596e-04,  7.12068199e-05,\n",
       "        1.87560651e-06,  6.29270121e-06,  4.52157392e-05,  4.46427898e-04,\n",
       "        1.67784310e-03,  4.52348465e-03,  8.24313036e-03,  1.10568037e-02,\n",
       "        1.33367722e-02,  1.54110064e-02,  1.59576624e-02,  1.49222053e-02,\n",
       "        1.38403540e-02,  1.39369614e-02,  1.48160209e-02,  1.35007815e-02,\n",
       "        8.26798014e-03,  2.98842168e-03,  1.09513811e-03,  1.98628978e-04,\n",
       "        3.92147855e-06,  2.89009364e-05,  1.47148393e-04,  1.10869501e-03,\n",
       "        4.04710815e-03,  9.97067995e-03,  1.61080308e-02,  2.05184104e-02,\n",
       "        2.27705093e-02,  2.33943101e-02,  2.18022321e-02,  1.90845386e-02,\n",
       "        1.65544254e-02,  1.59087078e-02,  1.78328008e-02,  1.90318318e-02,\n",
       "        1.47901230e-02,  6.38843638e-03,  2.09630293e-03,  3.10726334e-04,\n",
       "        2.71049842e-07,  5.16056557e-05,  3.73846009e-04,  2.62760041e-03,\n",
       "        8.52294855e-03,  1.78084398e-02,  2.57212585e-02,  2.87661058e-02,\n",
       "        2.72703777e-02,  2.49900482e-02,  2.25853751e-02,  2.02066848e-02,\n",
       "        1.71180494e-02,  1.58945680e-02,  1.88161369e-02,  2.34896279e-02,\n",
       "        2.16346191e-02,  1.02931729e-02,  2.89024291e-03,  4.00079382e-04,\n",
       "       -7.84771964e-07,  5.04063658e-05,  7.39142903e-04,  5.16926564e-03,\n",
       "        1.43170025e-02,  2.56533703e-02,  3.15557878e-02,  2.84904074e-02,\n",
       "        2.30995115e-02,  2.10880334e-02,  2.13807425e-02,  2.05909628e-02,\n",
       "        1.66407474e-02,  1.50218640e-02,  1.99744172e-02,  2.72455422e-02,\n",
       "        2.61816775e-02,  1.25140401e-02,  2.95741471e-03,  4.37930745e-04,\n",
       "       -7.57971059e-06,  8.66365013e-05,  1.36333254e-03,  8.44336463e-03,\n",
       "        2.04999236e-02,  3.12125738e-02,  3.06968549e-02,  2.16870460e-02,\n",
       "        1.62178009e-02,  1.76562732e-02,  2.20567909e-02,  2.17288870e-02,\n",
       "        1.74502250e-02,  1.73554222e-02,  2.38008911e-02,  3.00597560e-02,\n",
       "        2.66546039e-02,  1.24326587e-02,  2.85201342e-03,  4.64373980e-04,\n",
       "       -2.20763393e-05,  2.13195524e-04,  2.28740676e-03,  1.18894246e-02,\n",
       "        2.58194638e-02,  3.28452103e-02,  2.59135353e-02,  1.51462917e-02,\n",
       "        1.26619507e-02,  1.84930765e-02,  2.50732750e-02,  2.50148137e-02,\n",
       "        2.25065861e-02,  2.31545806e-02,  2.77634668e-02,  2.99407404e-02,\n",
       "        2.31172180e-02,  1.03903113e-02,  2.64338097e-03,  4.33879239e-04,\n",
       "       -3.53424763e-05,  3.89539524e-04,  3.07706078e-03,  1.36066243e-02,\n",
       "        2.70962835e-02,  3.17608829e-02,  2.35902382e-02,  1.55027329e-02,\n",
       "        1.65632798e-02,  2.41908793e-02,  2.94389184e-02,  2.84652968e-02,\n",
       "        2.60450743e-02,  2.60814292e-02,  2.82196419e-02,  2.61663319e-02,\n",
       "        1.75037630e-02,  7.53685803e-03,  2.12785735e-03,  3.17543815e-04,\n",
       "       -4.58219752e-05,  4.70812387e-04,  3.07814274e-03,  1.26523793e-02,\n",
       "        2.43600688e-02,  2.96730268e-02,  2.53854698e-02,  2.12782813e-02,\n",
       "        2.34103367e-02,  2.78569621e-02,  2.89616015e-02,  2.69046452e-02,\n",
       "        2.49170337e-02,  2.51741326e-02,  2.47101843e-02,  1.92641139e-02,\n",
       "        1.11545395e-02,  4.58515551e-03,  1.42234277e-03,  1.90841570e-04,\n",
       "       -3.51288634e-05,  3.39393874e-04,  2.15513366e-03,  9.30356306e-03,\n",
       "        1.90108790e-02,  2.58025842e-02,  2.63506818e-02,  2.48558705e-02,\n",
       "        2.47312426e-02,  2.38250888e-02,  2.18743341e-02,  2.08052910e-02,\n",
       "        2.06461629e-02,  2.03137602e-02,  1.74637678e-02,  1.16613697e-02,\n",
       "        6.04436094e-03,  2.40788909e-03,  7.12451057e-04,  7.33778193e-05,\n",
       "       -1.30092408e-05,  1.54247662e-04,  1.08480146e-03,  5.65269125e-03,\n",
       "        1.27198749e-02,  1.96274008e-02,  2.26220058e-02,  2.21814383e-02,\n",
       "        1.98658564e-02,  1.71455321e-02,  1.57861640e-02,  1.57454325e-02,\n",
       "        1.54423997e-02,  1.34530593e-02,  1.00862669e-02,  5.86791736e-03,\n",
       "        2.80301027e-03,  1.25084769e-03,  4.16786234e-04,  3.35826702e-05,\n",
       "       -1.59000879e-06,  3.61707793e-05,  3.48744270e-04,  2.70388492e-03,\n",
       "        6.97857599e-03,  1.16991414e-02,  1.44313423e-02,  1.40362977e-02,\n",
       "        1.22380533e-02,  1.12163271e-02,  1.08647278e-02,  1.03909977e-02,\n",
       "        9.14100589e-03,  6.99183405e-03,  4.46786331e-03,  2.18392302e-03,\n",
       "        1.03275424e-03,  5.42035291e-04,  2.14812148e-04,  2.98543622e-05,\n",
       "        7.72071832e-08, -4.40950236e-06,  9.84775003e-05,  1.21773428e-03,\n",
       "        3.46565759e-03,  5.76823532e-03,  6.74396645e-03,  6.39856400e-03,\n",
       "        5.99236511e-03,  6.12596246e-03,  6.06261220e-03,  5.45290575e-03,\n",
       "        4.23098814e-03,  2.79245049e-03,  1.56191484e-03,  7.10840429e-04,\n",
       "        3.17854816e-04,  1.59577221e-04,  6.21534550e-05,  1.07407193e-05,\n",
       "       -1.35647821e-07, -3.44517629e-06,  9.28024958e-06,  3.66417182e-04,\n",
       "        1.26887349e-03,  2.04197081e-03,  1.90460010e-03,  1.31115163e-03,\n",
       "        1.34723484e-03,  1.66546667e-03,  1.72051418e-03,  1.51142504e-03,\n",
       "        1.11791876e-03,  6.09489486e-04,  3.18204404e-04,  1.63487793e-04,\n",
       "        4.85271198e-05,  1.05678966e-05,  5.80391401e-06, -7.25893673e-07,\n",
       "        5.45563690e-09, -7.01806275e-09, -5.16215897e-06,  2.22467409e-05,\n",
       "        2.22701592e-04,  4.41899625e-04,  2.66497733e-04,  2.75632657e-05,\n",
       "       -1.71264401e-05, -7.51967356e-06,  1.12211026e-05,  1.43992595e-05,\n",
       "        3.02443172e-05,  1.03796794e-05,  1.09244838e-05,  2.22333125e-05,\n",
       "        5.80957739e-06, -2.87969288e-06, -8.19026680e-07, -7.55115369e-08,\n",
       "        0.00000000e+00,  1.38961641e-08, -2.42997339e-07, -6.06052345e-07,\n",
       "        2.21544930e-05,  3.31869937e-05,  6.41930632e-06, -1.65207609e-06,\n",
       "        8.55827699e-06, -1.91159029e-06, -6.60646311e-06, -1.98812768e-06,\n",
       "        1.43541296e-06, -1.51408006e-06,  2.17164340e-06,  5.14021968e-06,\n",
       "        1.31793239e-06, -8.15325020e-08, -6.74442400e-09,  0.00000000e+00])"
      ]
     },
     "execution_count": 312,
     "metadata": {},
     "output_type": "execute_result"
    }
   ],
   "source": [
    "import scipy.optimize as opt\n",
    "logistic_regression(X,y)"
   ]
  }
 ],
 "metadata": {
  "kernelspec": {
   "display_name": "Python 3",
   "language": "python",
   "name": "python3"
  },
  "language_info": {
   "codemirror_mode": {
    "name": "ipython",
    "version": 3
   },
   "file_extension": ".py",
   "mimetype": "text/x-python",
   "name": "python",
   "nbconvert_exporter": "python",
   "pygments_lexer": "ipython3",
   "version": "3.7.3"
  }
 },
 "nbformat": 4,
 "nbformat_minor": 4
}
